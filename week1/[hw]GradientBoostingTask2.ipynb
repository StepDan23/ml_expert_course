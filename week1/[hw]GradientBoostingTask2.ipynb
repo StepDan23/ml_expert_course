{
 "cells": [
  {
   "cell_type": "markdown",
   "metadata": {},
   "source": [
    "##  Speed and Performance of GB libraries"
   ]
  },
  {
   "cell_type": "markdown",
   "metadata": {},
   "source": [
    "Please make sure to install the following powerful packages for boosting:\n",
    "* [xgboost](https://anaconda.org/conda-forge/xgboost)\n",
    "* [lightgbm](https://anaconda.org/conda-forge/lightgbm)\n",
    "* [catboost](https://tech.yandex.com/catboost/doc/dg/concepts/python-installation-docpage/)"
   ]
  },
  {
   "cell_type": "markdown",
   "metadata": {},
   "source": [
    "In this task you are asked to compare the **training time** of the **GBDT**, the\n",
    "Gradient Boosted Decision Trees, as implemeted by different popular ML libraries.\n",
    "The dataset you shall use is the [UCI Breast Cancer dataset](https://archive.ics.uci.edu/ml/datasets/Breast+Cancer+Wisconsin+%28Diagnostic%29).\n",
    "You should study the parameters of each library and establish the **correspondence**\n",
    "between them.\n",
    "\n",
    "The plan is as follows:\n",
    "1. Take the **default** parameter settings, measure the training time, and plot\n",
    "the ROC curves;\n",
    "2. Use grid search with the $3$-fold cross valiadation to choose the best model.\n",
    "Then measure the training time as a function of (separately) **tree depth** and **the\n",
    "number of estimators in the ensemble**, finally **plot the ROC** curves of the best\n",
    "models.\n",
    "\n",
    "You need to make sure that you are comparing **comparable** classifiers, i.e. with\n",
    "**the same tree and ensemble hyperparameters**.\n",
    "\n",
    "<span style=\"color:green\">**NOTE**</span> You need figure out how to make parameter settings\n",
    "compatible. One possible way to understand the correspondence is to study the docs. You may\n",
    "choose the default parameters from any library.\n",
    "\n",
    "Please plot **three** ROC curves, one per library, on the same **one plot**\n",
    "with a *comprehensible [legend](https://matplotlib.org/users/legend_guide.html)*.\n",
    "\n",
    "A useful command for timing is IPython's [**timeit** cell magic](http://ipython.readthedocs.io/en/stable/interactive/magics.html#magic-timeit). "
   ]
  },
  {
   "cell_type": "code",
   "execution_count": 1,
   "metadata": {},
   "outputs": [
    {
     "name": "stderr",
     "output_type": "stream",
     "text": [
      "/Users/a18339743/anaconda3/lib/python3.7/site-packages/lightgbm/__init__.py:48: UserWarning: Starting from version 2.2.1, the library file in distribution wheels for macOS is built by the Apple Clang (Xcode_8.3.3) compiler.\n",
      "This means that in case of installing LightGBM from PyPI via the ``pip install lightgbm`` command, you don't need to install the gcc compiler anymore.\n",
      "Instead of that, you need to install the OpenMP library, which is required for running LightGBM on the system with the Apple Clang compiler.\n",
      "You can install the OpenMP library by the following command: ``brew install libomp``.\n",
      "  \"You can install the OpenMP library by the following command: ``brew install libomp``.\", UserWarning)\n"
     ]
    }
   ],
   "source": [
    "import numpy as np\n",
    "from time import time\n",
    "import matplotlib.pyplot as plt\n",
    "\n",
    "from sklearn.datasets import load_breast_cancer\n",
    "from sklearn.model_selection import train_test_split\n",
    "from sklearn.model_selection import GridSearchCV\n",
    "from sklearn.metrics import roc_auc_score, roc_curve\n",
    "\n",
    "from catboost import CatBoostClassifier\n",
    "from lightgbm import LGBMClassifier\n",
    "from xgboost import XGBClassifier"
   ]
  },
  {
   "cell_type": "code",
   "execution_count": 2,
   "metadata": {},
   "outputs": [],
   "source": [
    "data = load_breast_cancer()\n",
    "X, y = data.data, data.target\n",
    "\n",
    "X_train, X_test, y_train, y_test = train_test_split(X, y, test_size=0.4, random_state=42)"
   ]
  },
  {
   "cell_type": "markdown",
   "metadata": {},
   "source": [
    "## roc curve"
   ]
  },
  {
   "cell_type": "code",
   "execution_count": 3,
   "metadata": {},
   "outputs": [],
   "source": [
    "def plot_curve(estimators):\n",
    "    plt.subplot()\n",
    "    for estimator in estimators:\n",
    "        estimator_name = type(estimator).__name__\n",
    "        estimator.fit(X_train, y_train)\n",
    "        y_pred = estimator.predict(X_test)\n",
    "        fpr, tpr, thresholds = roc_curve(y_test, y_pred)\n",
    "        roc_auc = roc_auc_score(y_test, y_pred)\n",
    "        print(f\"roc_auc for {estimator_name}:\", roc_auc)\n",
    "        plt.plot(fpr, tpr, label=estimator_name)\n",
    "        plt.xlabel(\"False Positive Rate\")\n",
    "        plt.ylabel(\"True Positive Rate\")\n",
    "    plt.legend()\n",
    "    plt.show()"
   ]
  },
  {
   "cell_type": "markdown",
   "metadata": {},
   "source": [
    "## training time"
   ]
  },
  {
   "cell_type": "code",
   "execution_count": 4,
   "metadata": {},
   "outputs": [],
   "source": [
    "catboost_clf = CatBoostClassifier(learning_rate=0.1, verbose=False)\n",
    "lightgbm_clf = LGBMClassifier(learning_rate=0.1)\n",
    "xgboost_clf = XGBClassifier(learning_rate=0.1)"
   ]
  },
  {
   "cell_type": "code",
   "execution_count": 5,
   "metadata": {},
   "outputs": [
    {
     "name": "stdout",
     "output_type": "stream",
     "text": [
      "1.74 s ± 31.7 ms per loop (mean ± std. dev. of 4 runs, 1 loop each)\n"
     ]
    }
   ],
   "source": [
    "%%timeit -r 4\n",
    "catboost_clf.fit(X_train, y_train)"
   ]
  },
  {
   "cell_type": "code",
   "execution_count": 6,
   "metadata": {},
   "outputs": [
    {
     "name": "stdout",
     "output_type": "stream",
     "text": [
      "25.9 ms ± 859 µs per loop (mean ± std. dev. of 4 runs, 10 loops each)\n"
     ]
    }
   ],
   "source": [
    "%%timeit -r 4\n",
    "lightgbm_clf.fit(X_train, y_train)"
   ]
  },
  {
   "cell_type": "code",
   "execution_count": 7,
   "metadata": {},
   "outputs": [
    {
     "name": "stdout",
     "output_type": "stream",
     "text": [
      "21.9 ms ± 156 µs per loop (mean ± std. dev. of 4 runs, 10 loops each)\n"
     ]
    }
   ],
   "source": [
    "%%timeit -r 4\n",
    "xgboost_clf.fit(X_train, y_train)"
   ]
  },
  {
   "cell_type": "code",
   "execution_count": 8,
   "metadata": {},
   "outputs": [
    {
     "name": "stdout",
     "output_type": "stream",
     "text": [
      "roc_auc for CatBoostClassifier: 0.9619932432432432\n",
      "roc_auc for LGBMClassifier: 0.9451013513513513\n",
      "roc_auc for XGBClassifier: 0.9557432432432432\n"
     ]
    },
    {
     "data": {
      "image/png": "[encoded data removed]",
      "text/plain": [
       "<Figure size 432x288 with 1 Axes>"
      ]
     },
     "metadata": {
      "needs_background": "light"
     },
     "output_type": "display_data"
    }
   ],
   "source": [
    "plot_curve([catboost_clf, lightgbm_clf, xgboost_clf])"
   ]
  },
  {
   "cell_type": "markdown",
   "metadata": {},
   "source": [
    "## best score"
   ]
  },
  {
   "cell_type": "code",
   "execution_count": 9,
   "metadata": {},
   "outputs": [],
   "source": [
    "estimators_grid = {'n_estimators': [80, 100, 120, 150],\n",
    "                   'max_depth': [3, 5, 10]\n",
    "                  }\n",
    "catboost_cv = GridSearchCV(catboost_clf, estimators_grid, cv=3, n_jobs=-1)\n",
    "lightgbm_cv = GridSearchCV(lightgbm_clf, estimators_grid, cv=3, n_jobs=-1)\n",
    "xgboost_cv = GridSearchCV(xgboost_clf, estimators_grid, cv=3, n_jobs=-1)"
   ]
  },
  {
   "cell_type": "code",
   "execution_count": 10,
   "metadata": {},
   "outputs": [
    {
     "name": "stdout",
     "output_type": "stream",
     "text": [
      "catboost cv time: 40.37, best score 0.9706\n",
      "lightgbm cv time: 0.30, best score 0.9648\n",
      "xgboost cv time: 1.09, best score 0.9677\n"
     ]
    }
   ],
   "source": [
    "start_time = time()\n",
    "catboost_cv.fit(X_train, y_train)\n",
    "end_time = time()\n",
    "print(f\"catboost cv time: {end_time - start_time:.2f}, best score {catboost_cv.best_score_:.4f}\")\n",
    "\n",
    "start_time = time()\n",
    "lightgbm_cv.fit(X_train, y_train)\n",
    "end_time = time()\n",
    "print(f\"lightgbm cv time: {end_time - start_time:.2f}, best score {lightgbm_cv.best_score_:.4f}\")\n",
    "\n",
    "start_time = time()\n",
    "xgboost_cv.fit(X_train, y_train)\n",
    "end_time = time()\n",
    "print(f\"xgboost cv time: {end_time - start_time:.2f}, best score {xgboost_cv.best_score_:.4f}\")"
   ]
  },
  {
   "cell_type": "code",
   "execution_count": 11,
   "metadata": {},
   "outputs": [
    {
     "name": "stdout",
     "output_type": "stream",
     "text": [
      "roc_auc for CatBoostClassifier: 0.9744932432432432\n",
      "roc_auc for LGBMClassifier: 0.9451013513513513\n",
      "roc_auc for XGBClassifier: 0.9557432432432432\n"
     ]
    },
    {
     "data": {
      "image/png": "[encoded data removed]",
      "text/plain": [
       "<Figure size 432x288 with 1 Axes>"
      ]
     },
     "metadata": {
      "needs_background": "light"
     },
     "output_type": "display_data"
    }
   ],
   "source": [
    "plot_curve([catboost_cv.best_estimator_,\n",
    "            lightgbm_cv.best_estimator_,\n",
    "            xgboost_cv.best_estimator_\n",
    "           ])"
   ]
  }
 ],
 "metadata": {
  "kernelspec": {
   "display_name": "Python 3",
   "language": "python",
   "name": "python3"
  },
  "language_info": {
   "codemirror_mode": {
    "name": "ipython",
    "version": 3
   },
   "file_extension": ".py",
   "mimetype": "text/x-python",
   "name": "python",
   "nbconvert_exporter": "python",
   "pygments_lexer": "ipython3",
   "version": "3.7.6"
  }
 },
 "nbformat": 4,
 "nbformat_minor": 2
}
