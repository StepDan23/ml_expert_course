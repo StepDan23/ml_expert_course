{
 "cells": [
  {
   "cell_type": "markdown",
   "metadata": {
    "colab_type": "text",
    "id": "g7h5E-tzbKdb"
   },
   "source": [
    "## Boosting: gradient boosting\n"
   ]
  },
  {
   "cell_type": "code",
   "execution_count": 36,
   "metadata": {
    "colab": {},
    "colab_type": "code",
    "id": "2_FHWGYTbKdd"
   },
   "outputs": [],
   "source": [
    "import pandas as pd\n",
    "import numpy as np\n",
    "import sklearn\n",
    "from sklearn.tree import DecisionTreeRegressor\n",
    "from sklearn.model_selection import train_test_split\n",
    "from sklearn.model_selection import cross_val_score\n",
    "from scipy.optimize import fmin\n",
    "\n",
    "import matplotlib.pyplot as plt\n",
    "%matplotlib inline"
   ]
  },
  {
   "cell_type": "markdown",
   "metadata": {
    "colab_type": "text",
    "id": "8_Ku57bQbKdj"
   },
   "source": [
    "In this task you are asked to implement a boosting algorithm, and compare speed of\n",
    "different popular boosting libraries."
   ]
  },
  {
   "cell_type": "markdown",
   "metadata": {
    "colab_type": "text",
    "id": "YBK6uhNGbKdl"
   },
   "source": [
    "Let's generate a toy dataset for classification."
   ]
  },
  {
   "cell_type": "code",
   "execution_count": 589,
   "metadata": {
    "colab": {},
    "colab_type": "code",
    "id": "4Wox_8HGbKdo"
   },
   "outputs": [],
   "source": [
    "from sklearn.datasets import make_moons\n",
    "from sklearn.model_selection import train_test_split\n",
    "\n",
    "X, y = make_moons(n_samples=300, shuffle=True, noise=0.05, random_state=1011)\n",
    "y = y * 2 - 1 # for LogLoss\n",
    "X_train, X_test, y_train, y_test = train_test_split(X, y, test_size=0.4, random_state=1011)"
   ]
  },
  {
   "cell_type": "markdown",
   "metadata": {
    "colab_type": "text",
    "id": "mY6O22CmbKds"
   },
   "source": [
    "Your task:\n",
    "1. Implement adaboost (or gradient boosting) algorithms with **logistic loss**\n",
    "and labels $y\\in \\{-1, +1\\}$;\n"
   ]
  },
  {
   "cell_type": "markdown",
   "metadata": {
    "colab_type": "text",
    "id": "GNo1avZXbKds"
   },
   "source": [
    "2. **Plot the decision boundary** on a $2$-d grid; \n"
   ]
  },
  {
   "cell_type": "markdown",
   "metadata": {
    "colab_type": "text",
    "id": "jVcNJKQMbKdt"
   },
   "source": [
    "\n",
    "3. Estimate the accuracy **score** on the test dataset, as well as other classification metrics"
   ]
  },
  {
   "cell_type": "code",
   "execution_count": 600,
   "metadata": {},
   "outputs": [],
   "source": [
    "def logloss(y, predictions):\n",
    "    loss = np.sum(np.log(1.+np.exp(-y*predictions)))\n",
    "    return loss\n",
    "\n",
    "def dlogloss(y, predictions):\n",
    "    return -y/(1.+np.exp(predictions*y))\n",
    "\n",
    "\n",
    "class GradientBoosting():\n",
    "    def __init__(self, n_estimator=100, learning_rate=0.1, max_depth=3, random_state=23):\n",
    "        self.n_estimator = n_estimator\n",
    "        self.l_r = learning_rate\n",
    "        self.max_depth = max_depth\n",
    "        self.random_state = random_state\n",
    "        self.models = []\n",
    "        self.loss = []\n",
    "\n",
    "    def fit(self, X_train, y_train):\n",
    "        \"\"\"\n",
    "        \"\"\"\n",
    "        y_pred = np.ones(len(y_train)) * np.mean(y_train)\n",
    "        y_pred = np.zeros(len(y_train))\n",
    "        for tree_ind in range(self.n_estimator):\n",
    "            y_residual = -dlogloss(y_train, y_pred)\n",
    "            # y_residual = y_train - y_pred\n",
    "            clf = DecisionTreeRegressor(max_depth=self.max_depth, random_state=self.random_state)\n",
    "            clf.fit(X_train, y_residual)\n",
    "            self.models.append(clf)\n",
    "            y_pred += clf.predict(X_train)\n",
    "            self.loss.append(logloss(y_train, y_pred))\n",
    "        return self\n",
    "\n",
    "    def predict_proba(self, X_test):\n",
    "        y_pred = np.zeros(len(X_test))\n",
    "        for clf in self.models:\n",
    "            y_pred += clf.predict(X_test)\n",
    "        return y_pred\n",
    "\n",
    "    def predict(self, X_test):\n",
    "        # Turn into probability distribution\n",
    "        y_pred = self.predict_proba(X_test)\n",
    "        return (y_pred > 0).astype(int)\n"
   ]
  },
  {
   "cell_type": "markdown",
   "metadata": {
    "colab_type": "text",
    "id": "4Tbh3Ey0bKdy"
   },
   "source": [
    "Please refer to mlxtend by yourself. It's a nice library to plot the images"
   ]
  },
  {
   "cell_type": "code",
   "execution_count": 603,
   "metadata": {},
   "outputs": [
    {
     "data": {
      "text/plain": [
       "<__main__.GradientBoosting at 0x7fad9114df50>"
      ]
     },
     "execution_count": 603,
     "metadata": {},
     "output_type": "execute_result"
    }
   ],
   "source": [
    "gbm_clf = clf=GradientBoosting(random_state=23)\n",
    "gbm_clf.fit(X_train, y_train)"
   ]
  },
  {
   "cell_type": "code",
   "execution_count": 604,
   "metadata": {
    "colab": {},
    "colab_type": "code",
    "id": "L7EbHtnFbKdz"
   },
   "outputs": [
    {
     "data": {
      "image/png": "[encoded data removed]",
      "text/plain": [
       "<Figure size 432x288 with 1 Axes>"
      ]
     },
     "metadata": {
      "needs_background": "light"
     },
     "output_type": "display_data"
    }
   ],
   "source": [
    "from mlxtend.plotting import plot_decision_regions\n",
    "# 0 means 1 due to issue in mlextend\n",
    "plot_decision_regions(X_test, y_test, clf=gbm_clf)\n",
    "plt.show()"
   ]
  },
  {
   "cell_type": "code",
   "execution_count": 609,
   "metadata": {},
   "outputs": [
    {
     "data": {
      "image/png": "[encoded data removed]",
      "text/plain": [
       "<Figure size 432x288 with 1 Axes>"
      ]
     },
     "metadata": {
      "needs_background": "light"
     },
     "output_type": "display_data"
    }
   ],
   "source": [
    "plt.plot(gbm_clf.loss)\n",
    "plt.xlabel('itterations')\n",
    "plt.ylabel('loss');"
   ]
  },
  {
   "cell_type": "code",
   "execution_count": null,
   "metadata": {},
   "outputs": [],
   "source": []
  }
 ],
 "metadata": {
  "colab": {
   "collapsed_sections": [],
   "name": "[hw]GradientBoostingTask1.ipynb",
   "provenance": []
  },
  "kernelspec": {
   "display_name": "Python 3",
   "language": "python",
   "name": "python3"
  },
  "language_info": {
   "codemirror_mode": {
    "name": "ipython",
    "version": 3
   },
   "file_extension": ".py",
   "mimetype": "text/x-python",
   "name": "python",
   "nbconvert_exporter": "python",
   "pygments_lexer": "ipython3",
   "version": "3.7.6"
  }
 },
 "nbformat": 4,
 "nbformat_minor": 1
}
