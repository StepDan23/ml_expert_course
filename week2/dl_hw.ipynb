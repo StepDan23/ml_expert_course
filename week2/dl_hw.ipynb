{
 "cells": [
  {
   "cell_type": "code",
   "execution_count": 1,
   "metadata": {
    "colab": {
     "base_uri": "https://localhost:8080/",
     "height": 122
    },
    "colab_type": "code",
    "executionInfo": {
     "elapsed": 23307,
     "status": "ok",
     "timestamp": 1596126031732,
     "user": {
      "displayName": "Stepan Danilov",
      "photoUrl": "https://lh3.googleusercontent.com/a-/AOh14GiXigoc_rDJD8xI-vQ4-N30DUxN3Ph5FYSMfHqx=s64",
      "userId": "18196458455403579585"
     },
     "user_tz": -180
    },
    "id": "YW64aUgXUm6d",
    "outputId": "414328fc-2433-4b49-bef2-5797ac03cdcd"
   },
   "outputs": [
    {
     "name": "stdout",
     "output_type": "stream",
     "text": [
      "Go to this URL in a browser: https://accounts.google.com/o/oauth2/auth?client_id=947318989803-6bn6qk8qdgf4n4g3pfee6491hc0brc4i.apps.googleusercontent.com&redirect_uri=urn%3aietf%3awg%3aoauth%3a2.0%3aoob&response_type=code&scope=email%20https%3a%2f%2fwww.googleapis.com%2fauth%2fdocs.test%20https%3a%2f%2fwww.googleapis.com%2fauth%2fdrive%20https%3a%2f%2fwww.googleapis.com%2fauth%2fdrive.photos.readonly%20https%3a%2f%2fwww.googleapis.com%2fauth%2fpeopleapi.readonly\n",
      "\n",
      "Enter your authorization code:\n",
      "··········\n",
      "Mounted at /content/drive\n"
     ]
    }
   ],
   "source": [
    "from google.colab import drive\n",
    "drive.mount('/content/drive')"
   ]
  },
  {
   "cell_type": "code",
   "execution_count": 3,
   "metadata": {
    "colab": {},
    "colab_type": "code",
    "executionInfo": {
     "elapsed": 1534,
     "status": "ok",
     "timestamp": 1596126038010,
     "user": {
      "displayName": "Stepan Danilov",
      "photoUrl": "https://lh3.googleusercontent.com/a-/AOh14GiXigoc_rDJD8xI-vQ4-N30DUxN3Ph5FYSMfHqx=s64",
      "userId": "18196458455403579585"
     },
     "user_tz": -180
    },
    "id": "6ccf0hQaVDZs"
   },
   "outputs": [],
   "source": [
    "import sys\n",
    "sys.path.append('/content/drive/My Drive/hw/week2')"
   ]
  },
  {
   "cell_type": "code",
   "execution_count": 4,
   "metadata": {
    "colab": {},
    "colab_type": "code",
    "executionInfo": {
     "elapsed": 5716,
     "status": "ok",
     "timestamp": 1596126043772,
     "user": {
      "displayName": "Stepan Danilov",
      "photoUrl": "https://lh3.googleusercontent.com/a-/AOh14GiXigoc_rDJD8xI-vQ4-N30DUxN3Ph5FYSMfHqx=s64",
      "userId": "18196458455403579585"
     },
     "user_tz": -180
    },
    "id": "jDDd8zvPY8w_"
   },
   "outputs": [],
   "source": [
    "import torch\n",
    "import numpy as np"
   ]
  },
  {
   "cell_type": "code",
   "execution_count": 5,
   "metadata": {
    "colab": {
     "base_uri": "https://localhost:8080/",
     "height": 391
    },
    "colab_type": "code",
    "executionInfo": {
     "elapsed": 1147,
     "status": "ok",
     "timestamp": 1596126043774,
     "user": {
      "displayName": "Stepan Danilov",
      "photoUrl": "https://lh3.googleusercontent.com/a-/AOh14GiXigoc_rDJD8xI-vQ4-N30DUxN3Ph5FYSMfHqx=s64",
      "userId": "18196458455403579585"
     },
     "user_tz": -180
    },
    "id": "W_ru21cQY8xK",
    "outputId": "47f0bca8-66af-4030-e9cb-36ad5b3278bb"
   },
   "outputs": [
    {
     "name": "stdout",
     "output_type": "stream",
     "text": [
      "X :\n",
      " [[ 0  1  2  3]\n",
      " [ 4  5  6  7]\n",
      " [ 8  9 10 11]\n",
      " [12 13 14 15]]\n",
      "add 5 :\n",
      "[[ 5  6  7  8]\n",
      " [ 9 10 11 12]\n",
      " [13 14 15 16]\n",
      " [17 18 19 20]]\n",
      "X*X^T  :\n",
      " [[ 14  38  62  86]\n",
      " [ 38 126 214 302]\n",
      " [ 62 214 366 518]\n",
      " [ 86 302 518 734]]\n",
      "mean over cols :\n",
      "[ 1.5  5.5  9.5 13.5]\n",
      "cumsum of cols :\n",
      "[[ 0  1  2  3]\n",
      " [ 4  6  8 10]\n",
      " [12 15 18 21]\n",
      " [24 28 32 36]]\n"
     ]
    }
   ],
   "source": [
    "# numpy world\n",
    "\n",
    "x = np.arange(16).reshape(4, 4)\n",
    "\n",
    "print(\"X :\\n %s\" % x)\n",
    "print(\"add 5 :\\n%s\" % (x + 5))\n",
    "print(\"X*X^T  :\\n\", np.dot(x, x.T))\n",
    "print(\"mean over cols :\\n%s\" % (x.mean(axis=-1)))\n",
    "print(\"cumsum of cols :\\n%s\" % (np.cumsum(x, axis=0)))"
   ]
  },
  {
   "cell_type": "code",
   "execution_count": 6,
   "metadata": {
    "colab": {
     "base_uri": "https://localhost:8080/",
     "height": 391
    },
    "colab_type": "code",
    "executionInfo": {
     "elapsed": 1508,
     "status": "ok",
     "timestamp": 1596126047612,
     "user": {
      "displayName": "Stepan Danilov",
      "photoUrl": "https://lh3.googleusercontent.com/a-/AOh14GiXigoc_rDJD8xI-vQ4-N30DUxN3Ph5FYSMfHqx=s64",
      "userId": "18196458455403579585"
     },
     "user_tz": -180
    },
    "id": "_NqOKnrFY8xQ",
    "outputId": "124e9d92-8284-4453-ffd8-5c3294a7dbbc"
   },
   "outputs": [
    {
     "name": "stdout",
     "output_type": "stream",
     "text": [
      "X :\n",
      "tensor([[ 0.,  1.,  2.,  3.],\n",
      "        [ 4.,  5.,  6.,  7.],\n",
      "        [ 8.,  9., 10., 11.],\n",
      "        [12., 13., 14., 15.]])\n",
      "add 5 :\n",
      "tensor([[ 5.,  6.,  7.,  8.],\n",
      "        [ 9., 10., 11., 12.],\n",
      "        [13., 14., 15., 16.],\n",
      "        [17., 18., 19., 20.]])\n",
      "X*X^T  :\n",
      " tensor([[ 14.,  38.,  62.,  86.],\n",
      "        [ 38., 126., 214., 302.],\n",
      "        [ 62., 214., 366., 518.],\n",
      "        [ 86., 302., 518., 734.]])\n",
      "mean over cols :\n",
      " tensor([ 1.5000,  5.5000,  9.5000, 13.5000])\n",
      "cumsum of cols :\n",
      " tensor([[ 0.,  1.,  2.,  3.],\n",
      "        [ 4.,  6.,  8., 10.],\n",
      "        [12., 15., 18., 21.],\n",
      "        [24., 28., 32., 36.]])\n"
     ]
    }
   ],
   "source": [
    "# pytorch world\n",
    "\n",
    "x = np.arange(16).reshape(4, 4)\n",
    "\n",
    "x = torch.from_numpy(x).type(torch.FloatTensor) #or torch.arange(0,16).view(4,4)\n",
    "\n",
    "print(\"X :\\n%s\" % x)\n",
    "print(\"add 5 :\\n%s\" % (x + 5))\n",
    "print(\"X*X^T  :\\n\", torch.matmul(x, x.transpose(1, 0)))\n",
    "print(\"mean over cols :\\n\", torch.mean(x, dim=-1))\n",
    "print(\"cumsum of cols :\\n\", torch.cumsum(x, dim=0))"
   ]
  },
  {
   "cell_type": "markdown",
   "metadata": {
    "colab_type": "text",
    "id": "lxJiOWdJY8xW"
   },
   "source": [
    "## NumPy vs Pytorch\n",
    "\n",
    "Numpy и Pytorch не требуют описания статического графа вычислений. \n",
    "\n",
    "Можно отлаживаться с помощью pdb или просто print.\n",
    "\n",
    "API несколько различается:\n",
    "\n",
    "```\n",
    "x.reshape([1,2,8]) -> x.view(1,2,8)\n",
    "x.sum(axis=-1) -> x.sum(dim=-1)\n",
    "x.astype('int64') -> x.type(torch.int64)\n",
    "```\n",
    "\n",
    "\n",
    "Легко конвертировать между собой:\n",
    "\n",
    "```\n",
    "torch.from_numpy(npx) -- вернет Tensor\n",
    "tt.numpy() -- вернет Numpy Array\n",
    "```\n",
    "\n",
    "Преобразовать тензор из одного числа в обычное питоновское число:\n",
    "```\n",
    "torch.tensor([1]).item() -> 1\n",
    "```\n",
    "\n",
    "\n",
    "Если что:\n",
    "- смотрите документацию https://pytorch.org/docs/\n",
    "- гуглите (Stackoverflow/tutorials)"
   ]
  },
  {
   "cell_type": "code",
   "execution_count": 7,
   "metadata": {
    "colab": {
     "base_uri": "https://localhost:8080/",
     "height": 34
    },
    "colab_type": "code",
    "executionInfo": {
     "elapsed": 1025,
     "status": "ok",
     "timestamp": 1596126052063,
     "user": {
      "displayName": "Stepan Danilov",
      "photoUrl": "https://lh3.googleusercontent.com/a-/AOh14GiXigoc_rDJD8xI-vQ4-N30DUxN3Ph5FYSMfHqx=s64",
      "userId": "18196458455403579585"
     },
     "user_tz": -180
    },
    "id": "kWKDglA_Y8xX",
    "outputId": "e59fd5ec-4233-4c5d-95f6-3776f66a88ad"
   },
   "outputs": [
    {
     "name": "stdout",
     "output_type": "stream",
     "text": [
      "[1. 1. 1. 1. 1. 1. 1. 1. 1. 1. 1. 1. 1. 1. 1. 1.]\n"
     ]
    }
   ],
   "source": [
    "x = torch.linspace(0, 2 * np.pi, 16, dtype=torch.float64)\n",
    "\n",
    "#Mini-task: compute a vector of sin^2(x) + cos^2(x)\n",
    "out = torch.sin(x) ** 2 + torch.cos(x) ** 2\n",
    "\n",
    "print(out.numpy())"
   ]
  },
  {
   "cell_type": "markdown",
   "metadata": {
    "colab_type": "text",
    "id": "WvBccGm8Y8xh"
   },
   "source": [
    "# Automatic gradients\n",
    "\n",
    "У каждого тензора в Pytorch есть флаг `requires_grad`, который отвечает за автоматическое вычисление градиентов:\n",
    "\n",
    "1. Создать переменную: `a = torch.tensor(..., requires_grad=True)`\n",
    "\n",
    "2. Определить какую-нибудь дифференцируемую функцию `loss = whatever(a)`\n",
    "\n",
    "3. Запросить обратный проход `loss.backward()`\n",
    "\n",
    "4. Градиенты будут доступны в `a.grads`\n",
    "\n",
    "\n",
    "Есть два важных отличия Pytorch от Theano/TF:\n",
    "\n",
    "1. Функцию ошибки можно изменять динамически, например на каждом минибатче.\n",
    "\n",
    "2. После вычисления `.backward()` градиенты сохраняются в `.grad` каждой задействованной переменной, при повторных вызовах градиенты суммируются. Это позволяет использовать несколько функций ошибок или виртуально увеличивать batch_size. Поэтому, после каждого шага оптимизатора градиенты стоит обнулять.\n",
    "\n",
    "\n",
    "\n",
    "## Leaf vs Non-leaf Variable:\n",
    "```\n",
    "x = torch.tensor([1., 2., 3., 4.], requires_grad=True))  # leaf tensor\n",
    "y = x + 1  # not a leaf variable\n",
    "```\n",
    "\n",
    "Градиенты будут сохранены и доступны для использования только для `leaf tensor`.\n",
    "Такое поведение по-умолчанию сделано ради экономии памяти. Все тензоры с флагом `requires_grad = False` считаются`leaf tensors` по умолчанию.\n",
    "\n",
    "\n",
    "Обратите внимание, что вычисление градиентов работает только для тензоров с вещественным типом данных:"
   ]
  },
  {
   "cell_type": "code",
   "execution_count": 8,
   "metadata": {
    "colab": {
     "base_uri": "https://localhost:8080/",
     "height": 181
    },
    "colab_type": "code",
    "executionInfo": {
     "elapsed": 966,
     "status": "error",
     "timestamp": 1596126055857,
     "user": {
      "displayName": "Stepan Danilov",
      "photoUrl": "https://lh3.googleusercontent.com/a-/AOh14GiXigoc_rDJD8xI-vQ4-N30DUxN3Ph5FYSMfHqx=s64",
      "userId": "18196458455403579585"
     },
     "user_tz": -180
    },
    "id": "UCMFdtG1kbKo",
    "outputId": "92ea9bd1-5557-448d-f8cf-9932de373eed"
   },
   "outputs": [
    {
     "ename": "RuntimeError",
     "evalue": "ignored",
     "output_type": "error",
     "traceback": [
      "\u001b[0;31m---------------------------------------------------------------------------\u001b[0m",
      "\u001b[0;31mRuntimeError\u001b[0m                              Traceback (most recent call last)",
      "\u001b[0;32m<ipython-input-8-9cc1e9085a12>\u001b[0m in \u001b[0;36m<module>\u001b[0;34m()\u001b[0m\n\u001b[1;32m      1\u001b[0m \u001b[0;31m# will not work\u001b[0m\u001b[0;34m\u001b[0m\u001b[0;34m\u001b[0m\u001b[0;34m\u001b[0m\u001b[0m\n\u001b[0;32m----> 2\u001b[0;31m \u001b[0mx\u001b[0m \u001b[0;34m=\u001b[0m \u001b[0mtorch\u001b[0m\u001b[0;34m.\u001b[0m\u001b[0mtensor\u001b[0m\u001b[0;34m(\u001b[0m\u001b[0;34m[\u001b[0m\u001b[0;36m1\u001b[0m\u001b[0;34m,\u001b[0m \u001b[0;36m2\u001b[0m\u001b[0;34m,\u001b[0m \u001b[0;36m3\u001b[0m\u001b[0;34m,\u001b[0m \u001b[0;36m4\u001b[0m\u001b[0;34m]\u001b[0m\u001b[0;34m,\u001b[0m \u001b[0mrequires_grad\u001b[0m\u001b[0;34m=\u001b[0m\u001b[0;32mTrue\u001b[0m\u001b[0;34m)\u001b[0m\u001b[0;34m\u001b[0m\u001b[0;34m\u001b[0m\u001b[0m\n\u001b[0m",
      "\u001b[0;31mRuntimeError\u001b[0m: Only Tensors of floating point dtype can require gradients"
     ]
    }
   ],
   "source": [
    "# will not work\n",
    "x = torch.tensor([1, 2, 3, 4], requires_grad=True)"
   ]
  },
  {
   "cell_type": "markdown",
   "metadata": {
    "colab_type": "text",
    "id": "1zIjcCUJ1T1V"
   },
   "source": [
    "\n",
    "Чтобы выставить флаг `requires_grad=False` и выключить автоматическое вычисление градиентов для нескольких тензоров, можно использовать `with torch.no_grad()` или `detach`:"
   ]
  },
  {
   "cell_type": "code",
   "execution_count": 9,
   "metadata": {
    "colab": {
     "base_uri": "https://localhost:8080/",
     "height": 85
    },
    "colab_type": "code",
    "executionInfo": {
     "elapsed": 809,
     "status": "ok",
     "timestamp": 1596126057952,
     "user": {
      "displayName": "Stepan Danilov",
      "photoUrl": "https://lh3.googleusercontent.com/a-/AOh14GiXigoc_rDJD8xI-vQ4-N30DUxN3Ph5FYSMfHqx=s64",
      "userId": "18196458455403579585"
     },
     "user_tz": -180
    },
    "id": "1JQjCVpb1Uy1",
    "outputId": "326c6135-77d6-43bb-ef05-91113c762def"
   },
   "outputs": [
    {
     "name": "stdout",
     "output_type": "stream",
     "text": [
      "True\n",
      "True\n",
      "False\n",
      "False\n"
     ]
    }
   ],
   "source": [
    "x = torch.tensor([1.], requires_grad=True)\n",
    "y = x**2\n",
    "print(x.requires_grad)\n",
    "print(y.requires_grad)\n",
    "\n",
    "with torch.no_grad():\n",
    "    z = torch.exp(x)\n",
    "    print(z.requires_grad)\n",
    "    \n",
    "# detach from the graph\n",
    "w = torch.log(x).detach()\n",
    "print(w.requires_grad)"
   ]
  },
  {
   "cell_type": "markdown",
   "metadata": {
    "colab_type": "text",
    "id": "-NHwzSqakbUt"
   },
   "source": [
    "Рассмотрим пример линейной регрессии на датасете Boston"
   ]
  },
  {
   "cell_type": "code",
   "execution_count": 11,
   "metadata": {
    "colab": {
     "base_uri": "https://localhost:8080/",
     "height": 282
    },
    "colab_type": "code",
    "executionInfo": {
     "elapsed": 1915,
     "status": "ok",
     "timestamp": 1596126084893,
     "user": {
      "displayName": "Stepan Danilov",
      "photoUrl": "https://lh3.googleusercontent.com/a-/AOh14GiXigoc_rDJD8xI-vQ4-N30DUxN3Ph5FYSMfHqx=s64",
      "userId": "18196458455403579585"
     },
     "user_tz": -180
    },
    "id": "8sVwJ5DfY8xj",
    "outputId": "713d8e66-d6fa-48f2-f1df-dcef927b176b"
   },
   "outputs": [
    {
     "data": {
      "text/plain": [
       "<matplotlib.collections.PathCollection at 0x7fd5a0e3be10>"
      ]
     },
     "execution_count": 11,
     "metadata": {
      "tags": []
     },
     "output_type": "execute_result"
    },
    {
     "data": {
      "image/png": "[encoded data removed]",
      "text/plain": [
       "<Figure size 432x288 with 1 Axes>"
      ]
     },
     "metadata": {
      "needs_background": "light",
      "tags": []
     },
     "output_type": "display_data"
    }
   ],
   "source": [
    "%matplotlib inline\n",
    "import matplotlib.pyplot as plt\n",
    "from sklearn.datasets import load_boston\n",
    "\n",
    "x, y = load_boston(return_X_y=True)\n",
    "\n",
    "#select one column for simplicity. \n",
    "x = x[:, -1] / x[:, -1].std()\n",
    "y = y / y.std()\n",
    "\n",
    "plt.scatter(x, y)"
   ]
  },
  {
   "cell_type": "code",
   "execution_count": 12,
   "metadata": {
    "colab": {
     "base_uri": "https://localhost:8080/",
     "height": 85
    },
    "colab_type": "code",
    "executionInfo": {
     "elapsed": 806,
     "status": "ok",
     "timestamp": 1596126087212,
     "user": {
      "displayName": "Stepan Danilov",
      "photoUrl": "https://lh3.googleusercontent.com/a-/AOh14GiXigoc_rDJD8xI-vQ4-N30DUxN3Ph5FYSMfHqx=s64",
      "userId": "18196458455403579585"
     },
     "user_tz": -180
    },
    "id": "iqXtxfdjY8xr",
    "outputId": "1218b8ff-18bb-4fe5-d6e9-dbc8afb327bb"
   },
   "outputs": [
    {
     "name": "stdout",
     "output_type": "stream",
     "text": [
      "True True\n",
      "True True\n",
      "True False\n",
      "True False\n"
     ]
    }
   ],
   "source": [
    "# model tensors\n",
    "w = torch.zeros(1, requires_grad=True)\n",
    "b = torch.zeros(1, requires_grad=True)\n",
    "\n",
    "# data tensors\n",
    "x = torch.from_numpy(x).type(torch.float)\n",
    "y = torch.from_numpy(y).type(torch.float)\n",
    "\n",
    "# все тензоры являются leaf-tensors\n",
    "# x и y не требуют вычисления градиентов\n",
    "for vv in [w, b, x, y]:\n",
    "    print(vv.is_leaf, vv.requires_grad)"
   ]
  },
  {
   "cell_type": "code",
   "execution_count": 13,
   "metadata": {
    "colab": {
     "base_uri": "https://localhost:8080/",
     "height": 207
    },
    "colab_type": "code",
    "executionInfo": {
     "elapsed": 857,
     "status": "ok",
     "timestamp": 1596126090195,
     "user": {
      "displayName": "Stepan Danilov",
      "photoUrl": "https://lh3.googleusercontent.com/a-/AOh14GiXigoc_rDJD8xI-vQ4-N30DUxN3Ph5FYSMfHqx=s64",
      "userId": "18196458455403579585"
     },
     "user_tz": -180
    },
    "id": "KxTI1pQhY8x2",
    "outputId": "b85d60fc-6c38-428b-8a1c-c370ac82f769",
    "scrolled": true
   },
   "outputs": [
    {
     "name": "stdout",
     "output_type": "stream",
     "text": [
      "dL/dw = \n",
      " tensor([-7.2240])\n",
      "dL/db = \n",
      " tensor([-4.9048])\n",
      "Non-Leaf x dL/dx = \n",
      " None\n",
      "Non-Leaf loss dL/dpred = \n",
      " None\n"
     ]
    },
    {
     "name": "stderr",
     "output_type": "stream",
     "text": [
      "/usr/local/lib/python3.6/dist-packages/torch/tensor.py:746: UserWarning: The .grad attribute of a Tensor that is not a leaf Tensor is being accessed. Its .grad attribute won't be populated during autograd.backward(). If you indeed want the gradient for a non-leaf Tensor, use .retain_grad() on the non-leaf Tensor. If you access the non-leaf Tensor by mistake, make sure you access the leaf Tensor instead. See github.com/pytorch/pytorch/pull/30531 for more informations.\n",
      "  warnings.warn(\"The .grad attribute of a Tensor that is not a leaf Tensor is being accessed. Its .grad \"\n"
     ]
    }
   ],
   "source": [
    "#try out gradients\n",
    "y_pred = w * x + b\n",
    "loss = torch.mean((y_pred - y)**2)\n",
    "\n",
    "loss.backward()\n",
    "\n",
    "#now w.grad is a tensor containing gradient of L w.r.t. w\n",
    "\n",
    "print(\"dL/dw = \\n\", w.grad)\n",
    "print(\"dL/db = \\n\", b.grad)\n",
    "\n",
    "# no gradients for tensors with requires_grad=False\n",
    "# and non-leaf tensors\n",
    "print(\"Non-Leaf x dL/dx = \\n\", x.grad)\n",
    "print(\"Non-Leaf loss dL/dpred = \\n\", y_pred.grad)"
   ]
  },
  {
   "cell_type": "markdown",
   "metadata": {
    "colab_type": "text",
    "id": "PWC6fHzWY8x6"
   },
   "source": [
    "## Градиенты промежуточных вершин\n",
    "\n",
    "В графе, который мы описали `x` и `y_pread` не являются листовыми вершинами. По умолчанию для них не сохраняются градиенты.\n",
    "\n",
    "Для промежуточных вершин мы можем запросить сохранение градиентов с помощью функции `.retain_grad()`.\n"
   ]
  },
  {
   "cell_type": "code",
   "execution_count": 14,
   "metadata": {
    "colab": {
     "base_uri": "https://localhost:8080/",
     "height": 68
    },
    "colab_type": "code",
    "executionInfo": {
     "elapsed": 1118,
     "status": "ok",
     "timestamp": 1596126095861,
     "user": {
      "displayName": "Stepan Danilov",
      "photoUrl": "https://lh3.googleusercontent.com/a-/AOh14GiXigoc_rDJD8xI-vQ4-N30DUxN3Ph5FYSMfHqx=s64",
      "userId": "18196458455403579585"
     },
     "user_tz": -180
    },
    "id": "IsPhBEdlY8x7",
    "outputId": "7771a4e2-b304-47fe-f530-d5e26458bb8c"
   },
   "outputs": [
    {
     "name": "stdout",
     "output_type": "stream",
     "text": [
      "Non-Leaf loss dL/dpred = \n",
      " tensor([-0.0103, -0.0093, -0.0149, -0.0144, -0.0156, -0.0123, -0.0099, -0.0117,\n",
      "        -0.0071, -0.0081])\n"
     ]
    }
   ],
   "source": [
    "y_pred = w * x + b\n",
    "\n",
    "# check this:\n",
    "y_pred.retain_grad()\n",
    "\n",
    "loss = torch.mean((y_pred - y)**2)\n",
    "loss.backward()\n",
    "\n",
    "print(\"Non-Leaf loss dL/dpred = \\n\", y_pred.grad[:10])"
   ]
  },
  {
   "cell_type": "markdown",
   "metadata": {
    "colab_type": "text",
    "id": "5qSGyePQY8x-"
   },
   "source": [
    "# Линейная регрессия"
   ]
  },
  {
   "cell_type": "code",
   "execution_count": 15,
   "metadata": {
    "colab": {
     "base_uri": "https://localhost:8080/",
     "height": 299
    },
    "colab_type": "code",
    "executionInfo": {
     "elapsed": 3256,
     "status": "ok",
     "timestamp": 1596126101821,
     "user": {
      "displayName": "Stepan Danilov",
      "photoUrl": "https://lh3.googleusercontent.com/a-/AOh14GiXigoc_rDJD8xI-vQ4-N30DUxN3Ph5FYSMfHqx=s64",
      "userId": "18196458455403579585"
     },
     "user_tz": -180
    },
    "id": "mj_-PaVzY8yA",
    "outputId": "a50e78e5-53e4-474d-fad4-2e30453509bf"
   },
   "outputs": [
    {
     "data": {
      "image/png": "[encoded data removed]",
      "text/plain": [
       "<Figure size 432x288 with 1 Axes>"
      ]
     },
     "metadata": {
      "needs_background": "light",
      "tags": []
     },
     "output_type": "display_data"
    },
    {
     "name": "stdout",
     "output_type": "stream",
     "text": [
      "loss =  0.49713197350502014\n",
      "Done!\n"
     ]
    }
   ],
   "source": [
    "from IPython.display import clear_output\n",
    "\n",
    "\n",
    "for i in range(100):\n",
    "    \n",
    "    #compute loss\n",
    "    y_pred = w * x  + b\n",
    "    loss = torch.mean((y_pred - y)**2)\n",
    "    \n",
    "    # backprop\n",
    "    loss.backward()\n",
    "    \n",
    "    # gradient descent step for weights\n",
    "    # take alpha about 0.1\n",
    "    alpha = 0.1\n",
    "    w.data -= alpha * w.grad\n",
    "    b.data -= alpha * b.grad\n",
    "    \n",
    "    #zero gradients\n",
    "    w.grad.zero_()\n",
    "    b.grad.zero_()\n",
    "    \n",
    "    #the rest of code is just bells and whistles\n",
    "    if (i + 1) % 5==0:\n",
    "        #draw linear regression prediction vs data\n",
    "        clear_output(True)\n",
    "        plt.axhline(0, color='gray')\n",
    "        plt.axvline(0, color='gray')\n",
    "        plt.scatter(x.numpy(),y.numpy())\n",
    "        plt.plot(x.numpy(),y_pred.data.numpy(),color='orange')\n",
    "        plt.show()\n",
    "\n",
    "        print(\"loss = \", loss.item())\n",
    "        if loss.item() < 0.5:\n",
    "            print(\"Done!\")\n",
    "            break"
   ]
  },
  {
   "cell_type": "markdown",
   "metadata": {
    "colab_type": "text",
    "id": "DiEVpQBQY8yE"
   },
   "source": [
    "# Optimizers\n",
    "\n",
    "В этом примере мы пользовались простым правилом для градиентного спуска:\n",
    "  \n",
    "$$\\theta^{n+1} = \\theta^{n} - \\alpha \\nabla_{\\theta}L$$\n",
    "\n",
    "\n",
    "Единственным параметром в нем является $\\alpha$ -- это `learning_rate`.\n",
    "\n",
    "На практике часто используют различные модификации (например _Momentum_):\n",
    "\n",
    "$$\\theta^{n+1} = \\theta^{n} - U^{n}\\\\\n",
    "U^{n} = \\gamma U^{n-1} + \\alpha \\nabla_{\\theta}(L)\n",
    "$$\n",
    "\n",
    "Хороший обзор алгоритмов оптимизации для сетей можно посмотреть [тут](http://ruder.io/optimizing-gradient-descent/).\n",
    "\n",
    "\n",
    "\n",
    "Pytorch предоставляет практически все широкораспространненные оптимизаторы:    \n",
    "http://pytorch.org/docs/master/optim.html\n",
    "\n",
    "\n",
    "\n",
    "\n",
    "Оптимизаторы удобны в использовании:\n",
    "\n",
    "- требуется указать список переменных для оптимизации\n",
    "- `opt.step()` применяет `update` ($U^{n}$) к весам\n",
    "- `opt.zero_grad()` сбрасывает градиенты\n",
    "\n",
    "\n",
    "\n"
   ]
  },
  {
   "cell_type": "code",
   "execution_count": 16,
   "metadata": {
    "colab": {
     "base_uri": "https://localhost:8080/",
     "height": 299
    },
    "colab_type": "code",
    "executionInfo": {
     "elapsed": 2530,
     "status": "ok",
     "timestamp": 1596126106541,
     "user": {
      "displayName": "Stepan Danilov",
      "photoUrl": "https://lh3.googleusercontent.com/a-/AOh14GiXigoc_rDJD8xI-vQ4-N30DUxN3Ph5FYSMfHqx=s64",
      "userId": "18196458455403579585"
     },
     "user_tz": -180
    },
    "id": "crmZenu4Y8yF",
    "outputId": "8608c8f1-c78f-4f77-cd72-b3e0903b026c"
   },
   "outputs": [
    {
     "data": {
      "image/png": "[encoded data removed]",
      "text/plain": [
       "<Figure size 432x288 with 1 Axes>"
      ]
     },
     "metadata": {
      "needs_background": "light",
      "tags": []
     },
     "output_type": "display_data"
    },
    {
     "name": "stdout",
     "output_type": "stream",
     "text": [
      "loss =  0.49351754784584045\n",
      "Done!\n"
     ]
    }
   ],
   "source": [
    "# get data\n",
    "x, y = load_boston(return_X_y=True)\n",
    "x = x[:, -1] / x[:, -1].std()\n",
    "y = y / y.std()\n",
    "\n",
    "# data tensors\n",
    "x = torch.from_numpy(x).type(torch.float)\n",
    "y = torch.from_numpy(y).type(torch.float)\n",
    "\n",
    "# model tensors\n",
    "w = torch.zeros(1, requires_grad=True)\n",
    "b = torch.zeros(1, requires_grad=True)\n",
    "\n",
    "# define optimizer\n",
    "opt = torch.optim.RMSprop([w, b], lr=0.1)\n",
    "\n",
    "for i in range(100):\n",
    "    # compute loss\n",
    "    y_pred = w * x + b\n",
    "    loss = torch.mean((y_pred - y) ** 2)\n",
    "    \n",
    "    # backprop and gradient descent\n",
    "    loss.backward()\n",
    "    opt.step()\n",
    "    opt.zero_grad()\n",
    "    \n",
    "    #the rest of code is just bells and whistles\n",
    "    if (i + 1) % 5 == 0:\n",
    "        #draw linear regression prediction vs data\n",
    "        clear_output(True)\n",
    "        plt.axhline(0, color='gray')\n",
    "        plt.axvline(0, color='gray')\n",
    "        plt.scatter(x.numpy(), y.numpy())\n",
    "        plt.plot(x.numpy(), y_pred.data.numpy(), color='orange')\n",
    "        plt.show()\n",
    "\n",
    "        print(\"loss = \", loss.item())\n",
    "        if loss.item() < 0.5:\n",
    "            print(\"Done!\")\n",
    "            break"
   ]
  },
  {
   "cell_type": "markdown",
   "metadata": {
    "colab_type": "text",
    "collapsed": true,
    "id": "8qoOsLGuY8yK"
   },
   "source": [
    "## Highlevel-API \n",
    "\n",
    "При работе с нейронными сетями становится неудобно контролировать переменные с весами по-отдельности. Pytorch предоставляет высокоуровневый API для моделей http://pytorch.org/docs/master/nn.html#torch.nn.Module.\n",
    "\n",
    "\n",
    "Чтобы воспользоваться моделью необходимо отнаследоваться от torch.nn.Module, определить слои и описать `forward`, `backward` будет вычислен автоматически.\n",
    "\n",
    "\n",
    "Для демонстрации снова воспользуемся MNIST'ом."
   ]
  },
  {
   "cell_type": "code",
   "execution_count": 17,
   "metadata": {
    "colab": {
     "base_uri": "https://localhost:8080/",
     "height": 458
    },
    "colab_type": "code",
    "executionInfo": {
     "elapsed": 10324,
     "status": "ok",
     "timestamp": 1596126118528,
     "user": {
      "displayName": "Stepan Danilov",
      "photoUrl": "https://lh3.googleusercontent.com/a-/AOh14GiXigoc_rDJD8xI-vQ4-N30DUxN3Ph5FYSMfHqx=s64",
      "userId": "18196458455403579585"
     },
     "user_tz": -180
    },
    "id": "pP-mINCsY8yL",
    "outputId": "56c40cbf-48ae-48de-9216-487ee49453f7"
   },
   "outputs": [
    {
     "name": "stdout",
     "output_type": "stream",
     "text": [
      "Downloading train-images-idx3-ubyte.gz\n",
      "Downloading train-labels-idx1-ubyte.gz\n",
      "Downloading t10k-images-idx3-ubyte.gz\n",
      "Downloading t10k-labels-idx1-ubyte.gz\n"
     ]
    },
    {
     "data": {
      "image/png": "[encoded data removed]",
      "text/plain": [
       "<Figure size 432x432 with 4 Axes>"
      ]
     },
     "metadata": {
      "needs_background": "light",
      "tags": []
     },
     "output_type": "display_data"
    }
   ],
   "source": [
    "# MNIST again\n",
    "from util import load_mnist\n",
    "X_train, y_train, X_val, y_val, X_test, y_test = load_mnist(flatten=True)\n",
    "\n",
    "plt.figure(figsize=[6, 6])\n",
    "for i in range(4):\n",
    "    plt.subplot(2, 2, i + 1)\n",
    "    plt.title(\"Label: %i\" % y_train[i])\n",
    "    plt.imshow(X_train[i].reshape([28, 28]), cmap='gray');"
   ]
  },
  {
   "cell_type": "code",
   "execution_count": 18,
   "metadata": {
    "colab": {},
    "colab_type": "code",
    "executionInfo": {
     "elapsed": 880,
     "status": "ok",
     "timestamp": 1596126121273,
     "user": {
      "displayName": "Stepan Danilov",
      "photoUrl": "https://lh3.googleusercontent.com/a-/AOh14GiXigoc_rDJD8xI-vQ4-N30DUxN3Ph5FYSMfHqx=s64",
      "userId": "18196458455403579585"
     },
     "user_tz": -180
    },
    "id": "cPDAygXbY8yQ"
   },
   "outputs": [],
   "source": [
    "# Higher-level API:\n",
    "import torch.nn as nn\n",
    "import torch.nn.functional as F\n",
    "\n",
    "class Net(nn.Module):\n",
    "    def __init__(self, hidden_size=40):\n",
    "        super(Net, self).__init__()\n",
    "        # here you construct weights for linear layers \n",
    "        self.fc1 = nn.Linear(28 * 28, hidden_size)\n",
    "        self.fc2 = nn.Linear(hidden_size, hidden_size)\n",
    "        self.fc3 = nn.Linear(hidden_size, 10)\n",
    "        \n",
    "    def forward(self, x):\n",
    "        # here you describe usage of layers\n",
    "        x = F.relu(self.fc1(x))\n",
    "        x = F.relu(self.fc2(x))\n",
    "        x = self.fc3(x)\n",
    "        # check log_softmax signature\n",
    "        return F.log_softmax(x, dim=-1)\n",
    "    # backward function computes automaticaly"
   ]
  },
  {
   "cell_type": "code",
   "execution_count": 19,
   "metadata": {
    "colab": {
     "base_uri": "https://localhost:8080/",
     "height": 799
    },
    "colab_type": "code",
    "executionInfo": {
     "elapsed": 940,
     "status": "ok",
     "timestamp": 1596126123730,
     "user": {
      "displayName": "Stepan Danilov",
      "photoUrl": "https://lh3.googleusercontent.com/a-/AOh14GiXigoc_rDJD8xI-vQ4-N30DUxN3Ph5FYSMfHqx=s64",
      "userId": "18196458455403579585"
     },
     "user_tz": -180
    },
    "id": "BSuPd8FrY8yU",
    "outputId": "4a581aab-4cac-4f0c-dc60-200c7d530c02"
   },
   "outputs": [
    {
     "name": "stdout",
     "output_type": "stream",
     "text": [
      "Model outputs: \n",
      " tensor([[-2.1966, -2.1744, -2.3240, -2.4127, -2.2842, -2.4249, -2.4568, -2.2243,\n",
      "         -2.1652, -2.4218],\n",
      "        [-2.2051, -2.2571, -2.2941, -2.3900, -2.2667, -2.4433, -2.4128, -2.1851,\n",
      "         -2.2074, -2.4070],\n",
      "        [-2.1900, -2.2064, -2.3360, -2.3616, -2.2612, -2.4443, -2.4592, -2.2150,\n",
      "         -2.1718, -2.4377],\n",
      "        [-2.1821, -2.1547, -2.3558, -2.4138, -2.2866, -2.4244, -2.4925, -2.2098,\n",
      "         -2.1652, -2.4117],\n",
      "        [-2.1719, -2.1730, -2.3303, -2.4143, -2.2490, -2.4426, -2.4867, -2.2135,\n",
      "         -2.1752, -2.4422],\n",
      "        [-2.1831, -2.1625, -2.3160, -2.4130, -2.2608, -2.4520, -2.4685, -2.2079,\n",
      "         -2.1844, -2.4479],\n",
      "        [-2.1755, -2.1877, -2.3568, -2.3686, -2.2862, -2.4130, -2.4540, -2.2286,\n",
      "         -2.1777, -2.4326],\n",
      "        [-2.1888, -2.1802, -2.3125, -2.4192, -2.2695, -2.4452, -2.4425, -2.1998,\n",
      "         -2.1914, -2.4380],\n",
      "        [-2.1745, -2.1944, -2.3602, -2.3721, -2.2954, -2.4167, -2.4478, -2.2305,\n",
      "         -2.1700, -2.4173],\n",
      "        [-2.1814, -2.1483, -2.3625, -2.4047, -2.2776, -2.4319, -2.4863, -2.2001,\n",
      "         -2.1901, -2.4119]], grad_fn=<LogSoftmaxBackward>)\n",
      "Probs: \n",
      " tensor([[0.1112, 0.1137, 0.0979, 0.0896, 0.1019, 0.0885, 0.0857, 0.1081, 0.1147,\n",
      "         0.0888],\n",
      "        [0.1102, 0.1047, 0.1009, 0.0916, 0.1036, 0.0869, 0.0896, 0.1125, 0.1100,\n",
      "         0.0901],\n",
      "        [0.1119, 0.1101, 0.0967, 0.0943, 0.1042, 0.0868, 0.0855, 0.1092, 0.1140,\n",
      "         0.0874],\n",
      "        [0.1128, 0.1159, 0.0948, 0.0895, 0.1016, 0.0885, 0.0827, 0.1097, 0.1147,\n",
      "         0.0897],\n",
      "        [0.1140, 0.1138, 0.0973, 0.0894, 0.1055, 0.0869, 0.0832, 0.1093, 0.1136,\n",
      "         0.0870],\n",
      "        [0.1127, 0.1150, 0.0987, 0.0895, 0.1043, 0.0861, 0.0847, 0.1099, 0.1125,\n",
      "         0.0865],\n",
      "        [0.1136, 0.1122, 0.0947, 0.0936, 0.1017, 0.0895, 0.0859, 0.1077, 0.1133,\n",
      "         0.0878],\n",
      "        [0.1120, 0.1130, 0.0990, 0.0890, 0.1034, 0.0867, 0.0869, 0.1108, 0.1118,\n",
      "         0.0873],\n",
      "        [0.1137, 0.1114, 0.0944, 0.0933, 0.1007, 0.0892, 0.0865, 0.1075, 0.1142,\n",
      "         0.0892],\n",
      "        [0.1129, 0.1167, 0.0942, 0.0903, 0.1025, 0.0879, 0.0832, 0.1108, 0.1119,\n",
      "         0.0896]], grad_fn=<ExpBackward>)\n",
      "Pred: \n",
      " [8 7 8 1 0 1 0 1 8 1]\n",
      "Truth: \n",
      " [5 0 4 1 9 2 1 3 1 4]\n"
     ]
    }
   ],
   "source": [
    "# model interface:\n",
    "model = Net()\n",
    "tt = torch.from_numpy(X_train[:10, :].astype(np.float32))\n",
    "output = model(tt)\n",
    "\n",
    "print('Model outputs: \\n', output)\n",
    "# TODO: получите вероятности из output c помощью функций из torch\n",
    "# hint: см документацию к log_softmax\n",
    "probs = torch.exp(output)\n",
    "print('Probs: \\n', probs)\n",
    "\n",
    "# TODO: получите предсказание из output c помощью функций из torch\n",
    "pred = torch.argmax(probs, dim=1)\n",
    "print('Pred: \\n', pred.data.numpy())\n",
    "print('Truth: \\n', y_train[:10])"
   ]
  },
  {
   "cell_type": "markdown",
   "metadata": {
    "colab_type": "text",
    "id": "J9v9SIlDY8yZ"
   },
   "source": [
    "Тренировка сети\n",
    "\n",
    "Для тренировки сети нам требуется \n",
    "- итератор по данным\n",
    "- функция тренировки (прогон по данным, вычисление и применение градиентов)\n",
    "- функция валидации (прогон по тестовым данным, вычисление метрик)"
   ]
  },
  {
   "cell_type": "code",
   "execution_count": 20,
   "metadata": {
    "colab": {},
    "colab_type": "code",
    "executionInfo": {
     "elapsed": 880,
     "status": "ok",
     "timestamp": 1596126127571,
     "user": {
      "displayName": "Stepan Danilov",
      "photoUrl": "https://lh3.googleusercontent.com/a-/AOh14GiXigoc_rDJD8xI-vQ4-N30DUxN3Ph5FYSMfHqx=s64",
      "userId": "18196458455403579585"
     },
     "user_tz": -180
    },
    "id": "rVfeDcF-Y8yc"
   },
   "outputs": [],
   "source": [
    "from IPython.display import clear_output\n",
    "from tqdm import trange\n",
    "\n",
    "# функция для итераций по минибатчам, из первого семинара\n",
    "def iterate_minibatches(inputs, targets, batchsize, shuffle=False):\n",
    "    assert len(inputs) == len(targets)\n",
    "    if shuffle:\n",
    "        indices = np.random.permutation(len(inputs))\n",
    "    for start_idx in trange(0, len(inputs) - batchsize + 1, batchsize):\n",
    "        if shuffle:\n",
    "            excerpt = indices[start_idx:start_idx + batchsize]\n",
    "        else:\n",
    "            excerpt = slice(start_idx, start_idx + batchsize)\n",
    "        yield inputs[excerpt], targets[excerpt]"
   ]
  },
  {
   "cell_type": "code",
   "execution_count": 21,
   "metadata": {
    "colab": {},
    "colab_type": "code",
    "executionInfo": {
     "elapsed": 851,
     "status": "ok",
     "timestamp": 1596126129962,
     "user": {
      "displayName": "Stepan Danilov",
      "photoUrl": "https://lh3.googleusercontent.com/a-/AOh14GiXigoc_rDJD8xI-vQ4-N30DUxN3Ph5FYSMfHqx=s64",
      "userId": "18196458455403579585"
     },
     "user_tz": -180
    },
    "id": "qS8wn1JzY8yg"
   },
   "outputs": [],
   "source": [
    "def train(model, optimizer, batchsize=32):\n",
    "    loss_log = []\n",
    "    model.train()\n",
    "    for x_batch, y_batch in iterate_minibatches(X_train, y_train, batchsize=batchsize, shuffle=True):\n",
    "        # data preparation\n",
    "        data = torch.from_numpy(x_batch.astype(np.float32))\n",
    "        target = torch.from_numpy(y_batch.astype(np.int64))\n",
    "\n",
    "        optimizer.zero_grad()\n",
    "        output = model(data)\n",
    "        loss = F.nll_loss(output, target)\n",
    "        # compute gradients\n",
    "        loss.backward()\n",
    "        # make a step\n",
    "        optimizer.step()\n",
    "        loss = loss.item()\n",
    "        loss_log.append(loss)\n",
    "    return loss_log\n",
    "\n",
    "\n",
    "# TODO: написать функцию для валидации по X_val, y_val\n",
    "# hint: optimizer не нужен\n",
    "def test(model):\n",
    "    loss_log = []\n",
    "    model.eval()\n",
    "    for x_batch, y_batch in iterate_minibatches(X_test, y_test, 32):\n",
    "        data = torch.from_numpy(x_batch.astype(np.float32))\n",
    "        target = torch.from_numpy(y_batch.astype(np.int64))\n",
    "        output = model(data)\n",
    "        loss = F.nll_loss(output, target)\n",
    "        loss.backward()\n",
    "        loss_log.append(loss.item())\n",
    "    return loss_log"
   ]
  },
  {
   "cell_type": "markdown",
   "metadata": {
    "colab_type": "text",
    "id": "Yl02nUhoY8yj"
   },
   "source": [
    "Для отслеживания процедуры тренировки построить график"
   ]
  },
  {
   "cell_type": "code",
   "execution_count": 22,
   "metadata": {
    "colab": {},
    "colab_type": "code",
    "executionInfo": {
     "elapsed": 852,
     "status": "ok",
     "timestamp": 1596126132313,
     "user": {
      "displayName": "Stepan Danilov",
      "photoUrl": "https://lh3.googleusercontent.com/a-/AOh14GiXigoc_rDJD8xI-vQ4-N30DUxN3Ph5FYSMfHqx=s64",
      "userId": "18196458455403579585"
     },
     "user_tz": -180
    },
    "id": "8vbRTCJmY8yk"
   },
   "outputs": [],
   "source": [
    "def plot_history(train_history, val_history, title='loss'):\n",
    "    clear_output(True)\n",
    "    plt.figure()\n",
    "    plt.axhline(0, color='gray')\n",
    "    plt.axvline(0, color='gray')\n",
    "    plt.plot(np.arange(len(train_history)), train_history, color='orange')\n",
    "    n_iters = len(train_history) / (np.arange((len(val_history))) + 1)[::-1]\n",
    "    plt.plot(n_iters, val_history, color='blue')\n",
    "\n",
    "    plt.show()"
   ]
  },
  {
   "cell_type": "code",
   "execution_count": 23,
   "metadata": {
    "colab": {
     "base_uri": "https://localhost:8080/",
     "height": 282
    },
    "colab_type": "code",
    "executionInfo": {
     "elapsed": 32846,
     "status": "ok",
     "timestamp": 1596126166266,
     "user": {
      "displayName": "Stepan Danilov",
      "photoUrl": "https://lh3.googleusercontent.com/a-/AOh14GiXigoc_rDJD8xI-vQ4-N30DUxN3Ph5FYSMfHqx=s64",
      "userId": "18196458455403579585"
     },
     "user_tz": -180
    },
    "id": "ZWEroE1_Y8yo",
    "outputId": "8c9dc13d-6bb7-4789-a482-ddc5d3a038ad"
   },
   "outputs": [
    {
     "data": {
      "image/png": "[encoded data removed]",
      "text/plain": [
       "<Figure size 432x288 with 1 Axes>"
      ]
     },
     "metadata": {
      "needs_background": "light",
      "tags": []
     },
     "output_type": "display_data"
    },
    {
     "name": "stdout",
     "output_type": "stream",
     "text": [
      "epoch: 10, train_logloss: 0.06164734390045984, valid_logloss: 0.12861319679302305\n"
     ]
    }
   ],
   "source": [
    "train_log = []\n",
    "val_log = []\n",
    "\n",
    "model = Net()\n",
    "opt = torch.optim.RMSprop(model.parameters(), lr=0.001)\n",
    "batchsize = 32\n",
    "\n",
    "for epoch in range(10):\n",
    "    train_loss = train(model, opt, batchsize=batchsize)\n",
    "    train_log.extend(train_loss)\n",
    "    \n",
    "    val_loss = np.mean(test(model))\n",
    "    val_log.append(val_loss)\n",
    "        \n",
    "    # TODO: график train_loss vs train_steps с точками val_loss vs trained_steps\n",
    "    plot_history(train_log, val_log)\n",
    "    # use your plot_history()\n",
    "    print(f\"epoch: {epoch+1}, train_logloss: {np.mean(train_loss)}, valid_logloss: {val_loss}\")\n",
    "    # hint: train_log and val_log may contain data with different shapes"
   ]
  },
  {
   "cell_type": "markdown",
   "metadata": {
    "colab_type": "text",
    "id": "9gW6UzITY8yt"
   },
   "source": [
    "## Метрики\n",
    "\n",
    "Logloss -- величина, которую трудно интерпретировать. \n",
    "Для отслеживания тренировки и сравнения моделей удобнее наблюдать за интерпретируемыми метриками, например точностью (accuracy)\n",
    "\n",
    "Модифицируйте код train/test функций так, чтобы помимо ошибки подсчитывалась точность за батч:"
   ]
  },
  {
   "cell_type": "code",
   "execution_count": 24,
   "metadata": {
    "colab": {
     "base_uri": "https://localhost:8080/",
     "height": 282
    },
    "colab_type": "code",
    "executionInfo": {
     "elapsed": 43656,
     "status": "ok",
     "timestamp": 1596126201183,
     "user": {
      "displayName": "Stepan Danilov",
      "photoUrl": "https://lh3.googleusercontent.com/a-/AOh14GiXigoc_rDJD8xI-vQ4-N30DUxN3Ph5FYSMfHqx=s64",
      "userId": "18196458455403579585"
     },
     "user_tz": -180
    },
    "id": "Aa9VK7d3Y8yv",
    "outputId": "8e47131d-2d7f-482b-8238-45853bb42f19"
   },
   "outputs": [
    {
     "data": {
      "image/png": "[encoded data removed]",
      "text/plain": [
       "<Figure size 432x288 with 1 Axes>"
      ]
     },
     "metadata": {
      "needs_background": "light",
      "tags": []
     },
     "output_type": "display_data"
    },
    {
     "name": "stdout",
     "output_type": "stream",
     "text": [
      "epoch: 10, train_acc: 0.9794534250960307, valid_acc: 0.9714543269230769\n"
     ]
    }
   ],
   "source": [
    "# TODO: добавьте подсчет точности\n",
    "def train(model, optimizer, batchsize=32):\n",
    "    loss_log, acc_log = [], []\n",
    "    for x_batch, y_batch in iterate_minibatches(X_train, y_train, batchsize=batchsize, shuffle=True):\n",
    "        # data preparation\n",
    "        data = torch.from_numpy(x_batch.astype(np.float32))\n",
    "        target = torch.from_numpy(y_batch.astype(np.int64))\n",
    "\n",
    "        optimizer.zero_grad()\n",
    "        output = model(data)\n",
    "        loss = F.nll_loss(output, target)\n",
    "        # compute gradients\n",
    "        loss.backward()\n",
    "        # make a step\n",
    "        optimizer.step()\n",
    "        \n",
    "        loss = loss.item()\n",
    "        loss_log.append(loss)\n",
    "        \n",
    "        y_pred = torch.argmax(output.data, dim=1).numpy()\n",
    "        batch_acc = (y_pred == y_batch).sum() / y_batch.shape[0]\n",
    "        acc_log.append(batch_acc)\n",
    "        \n",
    "    return loss_log, acc_log\n",
    "\n",
    "\n",
    "# TODO: добавьте подсчет точности:\n",
    "def test(model):\n",
    "    loss_log, acc_log = [], []\n",
    "    model.eval()\n",
    "    for x_batch, y_batch in iterate_minibatches(X_test, y_test, 32):\n",
    "        data = torch.from_numpy(x_batch.astype(np.float32))\n",
    "        target = torch.from_numpy(y_batch.astype(np.int64))\n",
    "        output = model(data)\n",
    "        loss = F.nll_loss(output, target)\n",
    "        loss.backward()\n",
    "        loss_log.append(loss.item())\n",
    "        \n",
    "        y_pred = torch.argmax(output.data, dim=1).numpy()\n",
    "        batch_acc = (y_pred == y_batch).sum() / y_batch.shape[0]\n",
    "        acc_log.append(batch_acc)\n",
    "    \n",
    "    return loss_log, acc_log\n",
    "\n",
    "\n",
    "train_log, train_acc_log = [], []\n",
    "val_log, val_acc_log = [], []\n",
    "\n",
    "model = Net()\n",
    "opt = torch.optim.RMSprop(model.parameters(), lr=0.001)\n",
    "batchsize = 32\n",
    "\n",
    "\n",
    "for epoch in range(10):\n",
    "    # train\n",
    "    train_loss, train_acc = train(model, opt)\n",
    "    \n",
    "    # test\n",
    "    val_loss, val_acc = test(model)\n",
    "    val_acc = np.mean(val_acc)\n",
    "    \n",
    "    # store metrics\n",
    "    train_log.extend(train_loss)\n",
    "    train_acc_log.extend(train_acc)\n",
    "    \n",
    "    val_log.extend(val_loss)\n",
    "    val_acc_log.append(val_acc)\n",
    "    # plot all metrics (loss and acc for train/val)\n",
    "    plot_history(train_acc_log, val_acc_log)\n",
    "    print(f\"epoch: {epoch+1}, train_acc: {np.mean(train_acc)}, valid_acc: {val_acc}\")"
   ]
  },
  {
   "cell_type": "markdown",
   "metadata": {
    "colab_type": "text",
    "id": "oikbV3efY8yz"
   },
   "source": [
    "## Fine Tuning\n",
    "Для многих прикладных задач не существует больших датасетов с хорошей разметкой. \n",
    "Поэтому распространенным приемом является тренировка на похожем, но большом датасете и доучивание сети на целевом.\n",
    "\n",
    "Такой прием называют **Transfer Learning** или **Finetuning**.\n",
    "\n",
    "В сверточных сетях для классификации выделяют две части:\n",
    "- тело сети -- это набор сверток и пулингов (convolutions and poolings)\n",
    "- голову -- это MLP (набор полносвязных слоев) после которых делается softmax и получаются вероятности разных классов.\n",
    "\n",
    "\n",
    "Вычислительно простым вариантом finetuning является переучивание головы сети.\n",
    "\n",
    "\n",
    "Нам потребуется [предобученная модель](http://pytorch.org/docs/master/torchvision/datasets.html#torchvision-datasets) и датасет для нашей задачи.\n",
    "\n",
    "Предлагется воспользоваться моделью для ImageNet и датасетом  https://download.pytorch.org/tutorial/hymenoptera_data.zip\n",
    "\n",
    "\n",
    "В датасете содержатся картинки двух классов (`ants` и `bees`) разных размеров."
   ]
  },
  {
   "cell_type": "code",
   "execution_count": 26,
   "metadata": {
    "colab": {
     "base_uri": "https://localhost:8080/",
     "height": 1000
    },
    "colab_type": "code",
    "executionInfo": {
     "elapsed": 6715,
     "status": "ok",
     "timestamp": 1596126268305,
     "user": {
      "displayName": "Stepan Danilov",
      "photoUrl": "https://lh3.googleusercontent.com/a-/AOh14GiXigoc_rDJD8xI-vQ4-N30DUxN3Ph5FYSMfHqx=s64",
      "userId": "18196458455403579585"
     },
     "user_tz": -180
    },
    "id": "0a1J3RKxY8y0",
    "outputId": "58926617-8a23-4c17-b478-a03608a936c6"
   },
   "outputs": [
    {
     "name": "stdout",
     "output_type": "stream",
     "text": [
      "--2020-07-30 16:24:22--  https://download.pytorch.org/tutorial/hymenoptera_data.zip\n",
      "Resolving download.pytorch.org (download.pytorch.org)... 13.224.166.106, 13.224.166.66, 13.224.166.17, ...\n",
      "Connecting to download.pytorch.org (download.pytorch.org)|13.224.166.106|:443... connected.\n",
      "HTTP request sent, awaiting response... 200 OK\n",
      "Length: 47286322 (45M) [application/zip]\n",
      "Saving to: ‘hymenoptera_data.zip’\n",
      "\n",
      "hymenoptera_data.zi 100%[===================>]  45.10M  27.5MB/s    in 1.6s    \n",
      "\n",
      "2020-07-30 16:24:24 (27.5 MB/s) - ‘hymenoptera_data.zip’ saved [47286322/47286322]\n",
      "\n",
      "Archive:  ./hymenoptera_data.zip\n",
      "   creating: hymenoptera_data/\n",
      "   creating: hymenoptera_data/train/\n",
      "   creating: hymenoptera_data/train/ants/\n",
      "  inflating: hymenoptera_data/train/ants/0013035.jpg  \n",
      "  inflating: hymenoptera_data/train/ants/1030023514_aad5c608f9.jpg  \n",
      "  inflating: hymenoptera_data/train/ants/1095476100_3906d8afde.jpg  \n",
      "  inflating: hymenoptera_data/train/ants/1099452230_d1949d3250.jpg  \n",
      "  inflating: hymenoptera_data/train/ants/116570827_e9c126745d.jpg  \n",
      "  inflating: hymenoptera_data/train/ants/1225872729_6f0856588f.jpg  \n",
      "  inflating: hymenoptera_data/train/ants/1262877379_64fcada201.jpg  \n",
      "  inflating: hymenoptera_data/train/ants/1269756697_0bce92cdab.jpg  \n",
      "  inflating: hymenoptera_data/train/ants/1286984635_5119e80de1.jpg  \n",
      "  inflating: hymenoptera_data/train/ants/132478121_2a430adea2.jpg  \n",
      "  inflating: hymenoptera_data/train/ants/1360291657_dc248c5eea.jpg  \n",
      "  inflating: hymenoptera_data/train/ants/1368913450_e146e2fb6d.jpg  \n",
      "  inflating: hymenoptera_data/train/ants/1473187633_63ccaacea6.jpg  \n",
      "  inflating: hymenoptera_data/train/ants/148715752_302c84f5a4.jpg  \n",
      "  inflating: hymenoptera_data/train/ants/1489674356_09d48dde0a.jpg  \n",
      "  inflating: hymenoptera_data/train/ants/149244013_c529578289.jpg  \n",
      "  inflating: hymenoptera_data/train/ants/150801003_3390b73135.jpg  \n",
      "  inflating: hymenoptera_data/train/ants/150801171_cd86f17ed8.jpg  \n",
      "  inflating: hymenoptera_data/train/ants/154124431_65460430f2.jpg  \n",
      "  inflating: hymenoptera_data/train/ants/162603798_40b51f1654.jpg  \n",
      "  inflating: hymenoptera_data/train/ants/1660097129_384bf54490.jpg  \n",
      "  inflating: hymenoptera_data/train/ants/167890289_dd5ba923f3.jpg  \n",
      "  inflating: hymenoptera_data/train/ants/1693954099_46d4c20605.jpg  \n",
      "  inflating: hymenoptera_data/train/ants/175998972.jpg  \n",
      "  inflating: hymenoptera_data/train/ants/178538489_bec7649292.jpg  \n",
      "  inflating: hymenoptera_data/train/ants/1804095607_0341701e1c.jpg  \n",
      "  inflating: hymenoptera_data/train/ants/1808777855_2a895621d7.jpg  \n",
      "  inflating: hymenoptera_data/train/ants/188552436_605cc9b36b.jpg  \n",
      "  inflating: hymenoptera_data/train/ants/1917341202_d00a7f9af5.jpg  \n",
      "  inflating: hymenoptera_data/train/ants/1924473702_daa9aacdbe.jpg  \n",
      "  inflating: hymenoptera_data/train/ants/196057951_63bf063b92.jpg  \n",
      "  inflating: hymenoptera_data/train/ants/196757565_326437f5fe.jpg  \n",
      "  inflating: hymenoptera_data/train/ants/201558278_fe4caecc76.jpg  \n",
      "  inflating: hymenoptera_data/train/ants/201790779_527f4c0168.jpg  \n",
      "  inflating: hymenoptera_data/train/ants/2019439677_2db655d361.jpg  \n",
      "  inflating: hymenoptera_data/train/ants/207947948_3ab29d7207.jpg  \n",
      "  inflating: hymenoptera_data/train/ants/20935278_9190345f6b.jpg  \n",
      "  inflating: hymenoptera_data/train/ants/224655713_3956f7d39a.jpg  \n",
      "  inflating: hymenoptera_data/train/ants/2265824718_2c96f485da.jpg  \n",
      "  inflating: hymenoptera_data/train/ants/2265825502_fff99cfd2d.jpg  \n",
      "  inflating: hymenoptera_data/train/ants/226951206_d6bf946504.jpg  \n",
      "  inflating: hymenoptera_data/train/ants/2278278459_6b99605e50.jpg  \n",
      "  inflating: hymenoptera_data/train/ants/2288450226_a6e96e8fdf.jpg  \n",
      "  inflating: hymenoptera_data/train/ants/2288481644_83ff7e4572.jpg  \n",
      "  inflating: hymenoptera_data/train/ants/2292213964_ca51ce4bef.jpg  \n",
      "  inflating: hymenoptera_data/train/ants/24335309_c5ea483bb8.jpg  \n",
      "  inflating: hymenoptera_data/train/ants/245647475_9523dfd13e.jpg  \n",
      "  inflating: hymenoptera_data/train/ants/255434217_1b2b3fe0a4.jpg  \n",
      "  inflating: hymenoptera_data/train/ants/258217966_d9d90d18d3.jpg  \n",
      "  inflating: hymenoptera_data/train/ants/275429470_b2d7d9290b.jpg  \n",
      "  inflating: hymenoptera_data/train/ants/28847243_e79fe052cd.jpg  \n",
      "  inflating: hymenoptera_data/train/ants/318052216_84dff3f98a.jpg  \n",
      "  inflating: hymenoptera_data/train/ants/334167043_cbd1adaeb9.jpg  \n",
      "  inflating: hymenoptera_data/train/ants/339670531_94b75ae47a.jpg  \n",
      "  inflating: hymenoptera_data/train/ants/342438950_a3da61deab.jpg  \n",
      "  inflating: hymenoptera_data/train/ants/36439863_0bec9f554f.jpg  \n",
      "  inflating: hymenoptera_data/train/ants/374435068_7eee412ec4.jpg  \n",
      "  inflating: hymenoptera_data/train/ants/382971067_0bfd33afe0.jpg  \n",
      "  inflating: hymenoptera_data/train/ants/384191229_5779cf591b.jpg  \n",
      "  inflating: hymenoptera_data/train/ants/386190770_672743c9a7.jpg  \n",
      "  inflating: hymenoptera_data/train/ants/392382602_1b7bed32fa.jpg  \n",
      "  inflating: hymenoptera_data/train/ants/403746349_71384f5b58.jpg  \n",
      "  inflating: hymenoptera_data/train/ants/408393566_b5b694119b.jpg  \n",
      "  inflating: hymenoptera_data/train/ants/424119020_6d57481dab.jpg  \n",
      "  inflating: hymenoptera_data/train/ants/424873399_47658a91fb.jpg  \n",
      "  inflating: hymenoptera_data/train/ants/450057712_771b3bfc91.jpg  \n",
      "  inflating: hymenoptera_data/train/ants/45472593_bfd624f8dc.jpg  \n",
      "  inflating: hymenoptera_data/train/ants/459694881_ac657d3187.jpg  \n",
      "  inflating: hymenoptera_data/train/ants/460372577_f2f6a8c9fc.jpg  \n",
      "  inflating: hymenoptera_data/train/ants/460874319_0a45ab4d05.jpg  \n",
      "  inflating: hymenoptera_data/train/ants/466430434_4000737de9.jpg  \n",
      "  inflating: hymenoptera_data/train/ants/470127037_513711fd21.jpg  \n",
      "  inflating: hymenoptera_data/train/ants/474806473_ca6caab245.jpg  \n",
      "  inflating: hymenoptera_data/train/ants/475961153_b8c13fd405.jpg  \n",
      "  inflating: hymenoptera_data/train/ants/484293231_e53cfc0c89.jpg  \n",
      "  inflating: hymenoptera_data/train/ants/49375974_e28ba6f17e.jpg  \n",
      "  inflating: hymenoptera_data/train/ants/506249802_207cd979b4.jpg  \n",
      "  inflating: hymenoptera_data/train/ants/506249836_717b73f540.jpg  \n",
      "  inflating: hymenoptera_data/train/ants/512164029_c0a66b8498.jpg  \n",
      "  inflating: hymenoptera_data/train/ants/512863248_43c8ce579b.jpg  \n",
      "  inflating: hymenoptera_data/train/ants/518773929_734dbc5ff4.jpg  \n",
      "  inflating: hymenoptera_data/train/ants/522163566_fec115ca66.jpg  \n",
      "  inflating: hymenoptera_data/train/ants/522415432_2218f34bf8.jpg  \n",
      "  inflating: hymenoptera_data/train/ants/531979952_bde12b3bc0.jpg  \n",
      "  inflating: hymenoptera_data/train/ants/533848102_70a85ad6dd.jpg  \n",
      "  inflating: hymenoptera_data/train/ants/535522953_308353a07c.jpg  \n",
      "  inflating: hymenoptera_data/train/ants/540889389_48bb588b21.jpg  \n",
      "  inflating: hymenoptera_data/train/ants/541630764_dbd285d63c.jpg  \n",
      "  inflating: hymenoptera_data/train/ants/543417860_b14237f569.jpg  \n",
      "  inflating: hymenoptera_data/train/ants/560966032_988f4d7bc4.jpg  \n",
      "  inflating: hymenoptera_data/train/ants/5650366_e22b7e1065.jpg  \n",
      "  inflating: hymenoptera_data/train/ants/6240329_72c01e663e.jpg  \n",
      "  inflating: hymenoptera_data/train/ants/6240338_93729615ec.jpg  \n",
      "  inflating: hymenoptera_data/train/ants/649026570_e58656104b.jpg  \n",
      "  inflating: hymenoptera_data/train/ants/662541407_ff8db781e7.jpg  \n",
      "  inflating: hymenoptera_data/train/ants/67270775_e9fdf77e9d.jpg  \n",
      "  inflating: hymenoptera_data/train/ants/6743948_2b8c096dda.jpg  \n",
      "  inflating: hymenoptera_data/train/ants/684133190_35b62c0c1d.jpg  \n",
      "  inflating: hymenoptera_data/train/ants/69639610_95e0de17aa.jpg  \n",
      "  inflating: hymenoptera_data/train/ants/707895295_009cf23188.jpg  \n",
      "  inflating: hymenoptera_data/train/ants/7759525_1363d24e88.jpg  \n",
      "  inflating: hymenoptera_data/train/ants/795000156_a9900a4a71.jpg  \n",
      "  inflating: hymenoptera_data/train/ants/822537660_caf4ba5514.jpg  \n",
      "  inflating: hymenoptera_data/train/ants/82852639_52b7f7f5e3.jpg  \n",
      "  inflating: hymenoptera_data/train/ants/841049277_b28e58ad05.jpg  \n",
      "  inflating: hymenoptera_data/train/ants/886401651_f878e888cd.jpg  \n",
      "  inflating: hymenoptera_data/train/ants/892108839_f1aad4ca46.jpg  \n",
      "  inflating: hymenoptera_data/train/ants/938946700_ca1c669085.jpg  \n",
      "  inflating: hymenoptera_data/train/ants/957233405_25c1d1187b.jpg  \n",
      "  inflating: hymenoptera_data/train/ants/9715481_b3cb4114ff.jpg  \n",
      "  inflating: hymenoptera_data/train/ants/998118368_6ac1d91f81.jpg  \n",
      "  inflating: hymenoptera_data/train/ants/ant photos.jpg  \n",
      "  inflating: hymenoptera_data/train/ants/Ant_1.jpg  \n",
      "  inflating: hymenoptera_data/train/ants/army-ants-red-picture.jpg  \n",
      "  inflating: hymenoptera_data/train/ants/formica.jpeg  \n",
      "  inflating: hymenoptera_data/train/ants/hormiga_co_por.jpg  \n",
      "  inflating: hymenoptera_data/train/ants/imageNotFound.gif  \n",
      "  inflating: hymenoptera_data/train/ants/kurokusa.jpg  \n",
      "  inflating: hymenoptera_data/train/ants/MehdiabadiAnt2_600.jpg  \n",
      "  inflating: hymenoptera_data/train/ants/Nepenthes_rafflesiana_ant.jpg  \n",
      "  inflating: hymenoptera_data/train/ants/swiss-army-ant.jpg  \n",
      "  inflating: hymenoptera_data/train/ants/termite-vs-ant.jpg  \n",
      "  inflating: hymenoptera_data/train/ants/trap-jaw-ant-insect-bg.jpg  \n",
      "  inflating: hymenoptera_data/train/ants/VietnameseAntMimicSpider.jpg  \n",
      "   creating: hymenoptera_data/train/bees/\n",
      "  inflating: hymenoptera_data/train/bees/1092977343_cb42b38d62.jpg  \n",
      "  inflating: hymenoptera_data/train/bees/1093831624_fb5fbe2308.jpg  \n",
      "  inflating: hymenoptera_data/train/bees/1097045929_1753d1c765.jpg  \n",
      "  inflating: hymenoptera_data/train/bees/1232245714_f862fbe385.jpg  \n",
      "  inflating: hymenoptera_data/train/bees/129236073_0985e91c7d.jpg  \n",
      "  inflating: hymenoptera_data/train/bees/1295655112_7813f37d21.jpg  \n",
      "  inflating: hymenoptera_data/train/bees/132511197_0b86ad0fff.jpg  \n",
      "  inflating: hymenoptera_data/train/bees/132826773_dbbcb117b9.jpg  \n",
      "  inflating: hymenoptera_data/train/bees/150013791_969d9a968b.jpg  \n",
      "  inflating: hymenoptera_data/train/bees/1508176360_2972117c9d.jpg  \n",
      "  inflating: hymenoptera_data/train/bees/154600396_53e1252e52.jpg  \n",
      "  inflating: hymenoptera_data/train/bees/16838648_415acd9e3f.jpg  \n",
      "  inflating: hymenoptera_data/train/bees/1691282715_0addfdf5e8.jpg  \n",
      "  inflating: hymenoptera_data/train/bees/17209602_fe5a5a746f.jpg  \n",
      "  inflating: hymenoptera_data/train/bees/174142798_e5ad6d76e0.jpg  \n",
      "  inflating: hymenoptera_data/train/bees/1799726602_8580867f71.jpg  \n",
      "  inflating: hymenoptera_data/train/bees/1807583459_4fe92b3133.jpg  \n",
      "  inflating: hymenoptera_data/train/bees/196430254_46bd129ae7.jpg  \n",
      "  inflating: hymenoptera_data/train/bees/196658222_3fffd79c67.jpg  \n",
      "  inflating: hymenoptera_data/train/bees/198508668_97d818b6c4.jpg  \n",
      "  inflating: hymenoptera_data/train/bees/2031225713_50ed499635.jpg  \n",
      "  inflating: hymenoptera_data/train/bees/2037437624_2d7bce461f.jpg  \n",
      "  inflating: hymenoptera_data/train/bees/2053200300_8911ef438a.jpg  \n",
      "  inflating: hymenoptera_data/train/bees/205835650_e6f2614bee.jpg  \n",
      "  inflating: hymenoptera_data/train/bees/208702903_42fb4d9748.jpg  \n",
      "  inflating: hymenoptera_data/train/bees/21399619_3e61e5bb6f.jpg  \n",
      "  inflating: hymenoptera_data/train/bees/2227611847_ec72d40403.jpg  \n",
      "  inflating: hymenoptera_data/train/bees/2321139806_d73d899e66.jpg  \n",
      "  inflating: hymenoptera_data/train/bees/2330918208_8074770c20.jpg  \n",
      "  inflating: hymenoptera_data/train/bees/2345177635_caf07159b3.jpg  \n",
      "  inflating: hymenoptera_data/train/bees/2358061370_9daabbd9ac.jpg  \n",
      "  inflating: hymenoptera_data/train/bees/2364597044_3c3e3fc391.jpg  \n",
      "  inflating: hymenoptera_data/train/bees/2384149906_2cd8b0b699.jpg  \n",
      "  inflating: hymenoptera_data/train/bees/2397446847_04ef3cd3e1.jpg  \n",
      "  inflating: hymenoptera_data/train/bees/2405441001_b06c36fa72.jpg  \n",
      "  inflating: hymenoptera_data/train/bees/2445215254_51698ff797.jpg  \n",
      "  inflating: hymenoptera_data/train/bees/2452236943_255bfd9e58.jpg  \n",
      "  inflating: hymenoptera_data/train/bees/2467959963_a7831e9ff0.jpg  \n",
      "  inflating: hymenoptera_data/train/bees/2470492904_837e97800d.jpg  \n",
      "  inflating: hymenoptera_data/train/bees/2477324698_3d4b1b1cab.jpg  \n",
      "  inflating: hymenoptera_data/train/bees/2477349551_e75c97cf4d.jpg  \n",
      "  inflating: hymenoptera_data/train/bees/2486729079_62df0920be.jpg  \n",
      "  inflating: hymenoptera_data/train/bees/2486746709_c43cec0e42.jpg  \n",
      "  inflating: hymenoptera_data/train/bees/2493379287_4100e1dacc.jpg  \n",
      "  inflating: hymenoptera_data/train/bees/2495722465_879acf9d85.jpg  \n",
      "  inflating: hymenoptera_data/train/bees/2528444139_fa728b0f5b.jpg  \n",
      "  inflating: hymenoptera_data/train/bees/2538361678_9da84b77e3.jpg  \n",
      "  inflating: hymenoptera_data/train/bees/2551813042_8a070aeb2b.jpg  \n",
      "  inflating: hymenoptera_data/train/bees/2580598377_a4caecdb54.jpg  \n",
      "  inflating: hymenoptera_data/train/bees/2601176055_8464e6aa71.jpg  \n",
      "  inflating: hymenoptera_data/train/bees/2610833167_79bf0bcae5.jpg  \n",
      "  inflating: hymenoptera_data/train/bees/2610838525_fe8e3cae47.jpg  \n",
      "  inflating: hymenoptera_data/train/bees/2617161745_fa3ebe85b4.jpg  \n",
      "  inflating: hymenoptera_data/train/bees/2625499656_e3415e374d.jpg  \n",
      "  inflating: hymenoptera_data/train/bees/2634617358_f32fd16bea.jpg  \n",
      "  inflating: hymenoptera_data/train/bees/2638074627_6b3ae746a0.jpg  \n",
      "  inflating: hymenoptera_data/train/bees/2645107662_b73a8595cc.jpg  \n",
      "  inflating: hymenoptera_data/train/bees/2651621464_a2fa8722eb.jpg  \n",
      "  inflating: hymenoptera_data/train/bees/2652877533_a564830cbf.jpg  \n",
      "  inflating: hymenoptera_data/train/bees/266644509_d30bb16a1b.jpg  \n",
      "  inflating: hymenoptera_data/train/bees/2683605182_9d2a0c66cf.jpg  \n",
      "  inflating: hymenoptera_data/train/bees/2704348794_eb5d5178c2.jpg  \n",
      "  inflating: hymenoptera_data/train/bees/2707440199_cd170bd512.jpg  \n",
      "  inflating: hymenoptera_data/train/bees/2710368626_cb42882dc8.jpg  \n",
      "  inflating: hymenoptera_data/train/bees/2722592222_258d473e17.jpg  \n",
      "  inflating: hymenoptera_data/train/bees/2728759455_ce9bb8cd7a.jpg  \n",
      "  inflating: hymenoptera_data/train/bees/2756397428_1d82a08807.jpg  \n",
      "  inflating: hymenoptera_data/train/bees/2765347790_da6cf6cb40.jpg  \n",
      "  inflating: hymenoptera_data/train/bees/2781170484_5d61835d63.jpg  \n",
      "  inflating: hymenoptera_data/train/bees/279113587_b4843db199.jpg  \n",
      "  inflating: hymenoptera_data/train/bees/2792000093_e8ae0718cf.jpg  \n",
      "  inflating: hymenoptera_data/train/bees/2801728106_833798c909.jpg  \n",
      "  inflating: hymenoptera_data/train/bees/2822388965_f6dca2a275.jpg  \n",
      "  inflating: hymenoptera_data/train/bees/2861002136_52c7c6f708.jpg  \n",
      "  inflating: hymenoptera_data/train/bees/2908916142_a7ac8b57a8.jpg  \n",
      "  inflating: hymenoptera_data/train/bees/29494643_e3410f0d37.jpg  \n",
      "  inflating: hymenoptera_data/train/bees/2959730355_416a18c63c.jpg  \n",
      "  inflating: hymenoptera_data/train/bees/2962405283_22718d9617.jpg  \n",
      "  inflating: hymenoptera_data/train/bees/3006264892_30e9cced70.jpg  \n",
      "  inflating: hymenoptera_data/train/bees/3030189811_01d095b793.jpg  \n",
      "  inflating: hymenoptera_data/train/bees/3030772428_8578335616.jpg  \n",
      "  inflating: hymenoptera_data/train/bees/3044402684_3853071a87.jpg  \n",
      "  inflating: hymenoptera_data/train/bees/3074585407_9854eb3153.jpg  \n",
      "  inflating: hymenoptera_data/train/bees/3079610310_ac2d0ae7bc.jpg  \n",
      "  inflating: hymenoptera_data/train/bees/3090975720_71f12e6de4.jpg  \n",
      "  inflating: hymenoptera_data/train/bees/3100226504_c0d4f1e3f1.jpg  \n",
      "  inflating: hymenoptera_data/train/bees/342758693_c56b89b6b6.jpg  \n",
      "  inflating: hymenoptera_data/train/bees/354167719_22dca13752.jpg  \n",
      "  inflating: hymenoptera_data/train/bees/359928878_b3b418c728.jpg  \n",
      "  inflating: hymenoptera_data/train/bees/365759866_b15700c59b.jpg  \n",
      "  inflating: hymenoptera_data/train/bees/36900412_92b81831ad.jpg  \n",
      "  inflating: hymenoptera_data/train/bees/39672681_1302d204d1.jpg  \n",
      "  inflating: hymenoptera_data/train/bees/39747887_42df2855ee.jpg  \n",
      "  inflating: hymenoptera_data/train/bees/421515404_e87569fd8b.jpg  \n",
      "  inflating: hymenoptera_data/train/bees/444532809_9e931e2279.jpg  \n",
      "  inflating: hymenoptera_data/train/bees/446296270_d9e8b93ecf.jpg  \n",
      "  inflating: hymenoptera_data/train/bees/452462677_7be43af8ff.jpg  \n",
      "  inflating: hymenoptera_data/train/bees/452462695_40a4e5b559.jpg  \n",
      "  inflating: hymenoptera_data/train/bees/457457145_5f86eb7e9c.jpg  \n",
      "  inflating: hymenoptera_data/train/bees/465133211_80e0c27f60.jpg  \n",
      "  inflating: hymenoptera_data/train/bees/469333327_358ba8fe8a.jpg  \n",
      "  inflating: hymenoptera_data/train/bees/472288710_2abee16fa0.jpg  \n",
      "  inflating: hymenoptera_data/train/bees/473618094_8ffdcab215.jpg  \n",
      "  inflating: hymenoptera_data/train/bees/476347960_52edd72b06.jpg  \n",
      "  inflating: hymenoptera_data/train/bees/478701318_bbd5e557b8.jpg  \n",
      "  inflating: hymenoptera_data/train/bees/507288830_f46e8d4cb2.jpg  \n",
      "  inflating: hymenoptera_data/train/bees/509247772_2db2d01374.jpg  \n",
      "  inflating: hymenoptera_data/train/bees/513545352_fd3e7c7c5d.jpg  \n",
      "  inflating: hymenoptera_data/train/bees/522104315_5d3cb2758e.jpg  \n",
      "  inflating: hymenoptera_data/train/bees/537309131_532bfa59ea.jpg  \n",
      "  inflating: hymenoptera_data/train/bees/586041248_3032e277a9.jpg  \n",
      "  inflating: hymenoptera_data/train/bees/760526046_547e8b381f.jpg  \n",
      "  inflating: hymenoptera_data/train/bees/760568592_45a52c847f.jpg  \n",
      "  inflating: hymenoptera_data/train/bees/774440991_63a4aa0cbe.jpg  \n",
      "  inflating: hymenoptera_data/train/bees/85112639_6e860b0469.jpg  \n",
      "  inflating: hymenoptera_data/train/bees/873076652_eb098dab2d.jpg  \n",
      "  inflating: hymenoptera_data/train/bees/90179376_abc234e5f4.jpg  \n",
      "  inflating: hymenoptera_data/train/bees/92663402_37f379e57a.jpg  \n",
      "  inflating: hymenoptera_data/train/bees/95238259_98470c5b10.jpg  \n",
      "  inflating: hymenoptera_data/train/bees/969455125_58c797ef17.jpg  \n",
      "  inflating: hymenoptera_data/train/bees/98391118_bdb1e80cce.jpg  \n",
      "   creating: hymenoptera_data/val/\n",
      "   creating: hymenoptera_data/val/ants/\n",
      "  inflating: hymenoptera_data/val/ants/10308379_1b6c72e180.jpg  \n",
      "  inflating: hymenoptera_data/val/ants/1053149811_f62a3410d3.jpg  \n",
      "  inflating: hymenoptera_data/val/ants/1073564163_225a64f170.jpg  \n",
      "  inflating: hymenoptera_data/val/ants/1119630822_cd325ea21a.jpg  \n",
      "  inflating: hymenoptera_data/val/ants/1124525276_816a07c17f.jpg  \n",
      "  inflating: hymenoptera_data/val/ants/11381045_b352a47d8c.jpg  \n",
      "  inflating: hymenoptera_data/val/ants/119785936_dd428e40c3.jpg  \n",
      "  inflating: hymenoptera_data/val/ants/1247887232_edcb61246c.jpg  \n",
      "  inflating: hymenoptera_data/val/ants/1262751255_c56c042b7b.jpg  \n",
      "  inflating: hymenoptera_data/val/ants/1337725712_2eb53cd742.jpg  \n",
      "  inflating: hymenoptera_data/val/ants/1358854066_5ad8015f7f.jpg  \n",
      "  inflating: hymenoptera_data/val/ants/1440002809_b268d9a66a.jpg  \n",
      "  inflating: hymenoptera_data/val/ants/147542264_79506478c2.jpg  \n",
      "  inflating: hymenoptera_data/val/ants/152286280_411648ec27.jpg  \n",
      "  inflating: hymenoptera_data/val/ants/153320619_2aeb5fa0ee.jpg  \n",
      "  inflating: hymenoptera_data/val/ants/153783656_85f9c3ac70.jpg  \n",
      "  inflating: hymenoptera_data/val/ants/157401988_d0564a9d02.jpg  \n",
      "  inflating: hymenoptera_data/val/ants/159515240_d5981e20d1.jpg  \n",
      "  inflating: hymenoptera_data/val/ants/161076144_124db762d6.jpg  \n",
      "  inflating: hymenoptera_data/val/ants/161292361_c16e0bf57a.jpg  \n",
      "  inflating: hymenoptera_data/val/ants/170652283_ecdaff5d1a.jpg  \n",
      "  inflating: hymenoptera_data/val/ants/17081114_79b9a27724.jpg  \n",
      "  inflating: hymenoptera_data/val/ants/172772109_d0a8e15fb0.jpg  \n",
      "  inflating: hymenoptera_data/val/ants/1743840368_b5ccda82b7.jpg  \n",
      "  inflating: hymenoptera_data/val/ants/181942028_961261ef48.jpg  \n",
      "  inflating: hymenoptera_data/val/ants/183260961_64ab754c97.jpg  \n",
      "  inflating: hymenoptera_data/val/ants/2039585088_c6f47c592e.jpg  \n",
      "  inflating: hymenoptera_data/val/ants/205398178_c395c5e460.jpg  \n",
      "  inflating: hymenoptera_data/val/ants/208072188_f293096296.jpg  \n",
      "  inflating: hymenoptera_data/val/ants/209615353_eeb38ba204.jpg  \n",
      "  inflating: hymenoptera_data/val/ants/2104709400_8831b4fc6f.jpg  \n",
      "  inflating: hymenoptera_data/val/ants/212100470_b485e7b7b9.jpg  \n",
      "  inflating: hymenoptera_data/val/ants/2127908701_d49dc83c97.jpg  \n",
      "  inflating: hymenoptera_data/val/ants/2191997003_379df31291.jpg  \n",
      "  inflating: hymenoptera_data/val/ants/2211974567_ee4606b493.jpg  \n",
      "  inflating: hymenoptera_data/val/ants/2219621907_47bc7cc6b0.jpg  \n",
      "  inflating: hymenoptera_data/val/ants/2238242353_52c82441df.jpg  \n",
      "  inflating: hymenoptera_data/val/ants/2255445811_dabcdf7258.jpg  \n",
      "  inflating: hymenoptera_data/val/ants/239161491_86ac23b0a3.jpg  \n",
      "  inflating: hymenoptera_data/val/ants/263615709_cfb28f6b8e.jpg  \n",
      "  inflating: hymenoptera_data/val/ants/308196310_1db5ffa01b.jpg  \n",
      "  inflating: hymenoptera_data/val/ants/319494379_648fb5a1c6.jpg  \n",
      "  inflating: hymenoptera_data/val/ants/35558229_1fa4608a7a.jpg  \n",
      "  inflating: hymenoptera_data/val/ants/412436937_4c2378efc2.jpg  \n",
      "  inflating: hymenoptera_data/val/ants/436944325_d4925a38c7.jpg  \n",
      "  inflating: hymenoptera_data/val/ants/445356866_6cb3289067.jpg  \n",
      "  inflating: hymenoptera_data/val/ants/459442412_412fecf3fe.jpg  \n",
      "  inflating: hymenoptera_data/val/ants/470127071_8b8ee2bd74.jpg  \n",
      "  inflating: hymenoptera_data/val/ants/477437164_bc3e6e594a.jpg  \n",
      "  inflating: hymenoptera_data/val/ants/488272201_c5aa281348.jpg  \n",
      "  inflating: hymenoptera_data/val/ants/502717153_3e4865621a.jpg  \n",
      "  inflating: hymenoptera_data/val/ants/518746016_bcc28f8b5b.jpg  \n",
      "  inflating: hymenoptera_data/val/ants/540543309_ddbb193ee5.jpg  \n",
      "  inflating: hymenoptera_data/val/ants/562589509_7e55469b97.jpg  \n",
      "  inflating: hymenoptera_data/val/ants/57264437_a19006872f.jpg  \n",
      "  inflating: hymenoptera_data/val/ants/573151833_ebbc274b77.jpg  \n",
      "  inflating: hymenoptera_data/val/ants/649407494_9b6bc4949f.jpg  \n",
      "  inflating: hymenoptera_data/val/ants/751649788_78dd7d16ce.jpg  \n",
      "  inflating: hymenoptera_data/val/ants/768870506_8f115d3d37.jpg  \n",
      "  inflating: hymenoptera_data/val/ants/800px-Meat_eater_ant_qeen_excavating_hole.jpg  \n",
      "  inflating: hymenoptera_data/val/ants/8124241_36b290d372.jpg  \n",
      "  inflating: hymenoptera_data/val/ants/8398478_50ef10c47a.jpg  \n",
      "  inflating: hymenoptera_data/val/ants/854534770_31f6156383.jpg  \n",
      "  inflating: hymenoptera_data/val/ants/892676922_4ab37dce07.jpg  \n",
      "  inflating: hymenoptera_data/val/ants/94999827_36895faade.jpg  \n",
      "  inflating: hymenoptera_data/val/ants/Ant-1818.jpg  \n",
      "  inflating: hymenoptera_data/val/ants/ants-devouring-remains-of-large-dead-insect-on-red-tile-in-Stellenbosch-South-Africa-closeup-1-DHD.jpg  \n",
      "  inflating: hymenoptera_data/val/ants/desert_ant.jpg  \n",
      "  inflating: hymenoptera_data/val/ants/F.pergan.28(f).jpg  \n",
      "  inflating: hymenoptera_data/val/ants/Hormiga.jpg  \n",
      "   creating: hymenoptera_data/val/bees/\n",
      "  inflating: hymenoptera_data/val/bees/1032546534_06907fe3b3.jpg  \n",
      "  inflating: hymenoptera_data/val/bees/10870992_eebeeb3a12.jpg  \n",
      "  inflating: hymenoptera_data/val/bees/1181173278_23c36fac71.jpg  \n",
      "  inflating: hymenoptera_data/val/bees/1297972485_33266a18d9.jpg  \n",
      "  inflating: hymenoptera_data/val/bees/1328423762_f7a88a8451.jpg  \n",
      "  inflating: hymenoptera_data/val/bees/1355974687_1341c1face.jpg  \n",
      "  inflating: hymenoptera_data/val/bees/144098310_a4176fd54d.jpg  \n",
      "  inflating: hymenoptera_data/val/bees/1486120850_490388f84b.jpg  \n",
      "  inflating: hymenoptera_data/val/bees/149973093_da3c446268.jpg  \n",
      "  inflating: hymenoptera_data/val/bees/151594775_ee7dc17b60.jpg  \n",
      "  inflating: hymenoptera_data/val/bees/151603988_2c6f7d14c7.jpg  \n",
      "  inflating: hymenoptera_data/val/bees/1519368889_4270261ee3.jpg  \n",
      "  inflating: hymenoptera_data/val/bees/152789693_220b003452.jpg  \n",
      "  inflating: hymenoptera_data/val/bees/177677657_a38c97e572.jpg  \n",
      "  inflating: hymenoptera_data/val/bees/1799729694_0c40101071.jpg  \n",
      "  inflating: hymenoptera_data/val/bees/181171681_c5a1a82ded.jpg  \n",
      "  inflating: hymenoptera_data/val/bees/187130242_4593a4c610.jpg  \n",
      "  inflating: hymenoptera_data/val/bees/203868383_0fcbb48278.jpg  \n",
      "  inflating: hymenoptera_data/val/bees/2060668999_e11edb10d0.jpg  \n",
      "  inflating: hymenoptera_data/val/bees/2086294791_6f3789d8a6.jpg  \n",
      "  inflating: hymenoptera_data/val/bees/2103637821_8d26ee6b90.jpg  \n",
      "  inflating: hymenoptera_data/val/bees/2104135106_a65eede1de.jpg  \n",
      "  inflating: hymenoptera_data/val/bees/215512424_687e1e0821.jpg  \n",
      "  inflating: hymenoptera_data/val/bees/2173503984_9c6aaaa7e2.jpg  \n",
      "  inflating: hymenoptera_data/val/bees/220376539_20567395d8.jpg  \n",
      "  inflating: hymenoptera_data/val/bees/224841383_d050f5f510.jpg  \n",
      "  inflating: hymenoptera_data/val/bees/2321144482_f3785ba7b2.jpg  \n",
      "  inflating: hymenoptera_data/val/bees/238161922_55fa9a76ae.jpg  \n",
      "  inflating: hymenoptera_data/val/bees/2407809945_fb525ef54d.jpg  \n",
      "  inflating: hymenoptera_data/val/bees/2415414155_1916f03b42.jpg  \n",
      "  inflating: hymenoptera_data/val/bees/2438480600_40a1249879.jpg  \n",
      "  inflating: hymenoptera_data/val/bees/2444778727_4b781ac424.jpg  \n",
      "  inflating: hymenoptera_data/val/bees/2457841282_7867f16639.jpg  \n",
      "  inflating: hymenoptera_data/val/bees/2470492902_3572c90f75.jpg  \n",
      "  inflating: hymenoptera_data/val/bees/2478216347_535c8fe6d7.jpg  \n",
      "  inflating: hymenoptera_data/val/bees/2501530886_e20952b97d.jpg  \n",
      "  inflating: hymenoptera_data/val/bees/2506114833_90a41c5267.jpg  \n",
      "  inflating: hymenoptera_data/val/bees/2509402554_31821cb0b6.jpg  \n",
      "  inflating: hymenoptera_data/val/bees/2525379273_dcb26a516d.jpg  \n",
      "  inflating: hymenoptera_data/val/bees/26589803_5ba7000313.jpg  \n",
      "  inflating: hymenoptera_data/val/bees/2668391343_45e272cd07.jpg  \n",
      "  inflating: hymenoptera_data/val/bees/2670536155_c170f49cd0.jpg  \n",
      "  inflating: hymenoptera_data/val/bees/2685605303_9eed79d59d.jpg  \n",
      "  inflating: hymenoptera_data/val/bees/2702408468_d9ed795f4f.jpg  \n",
      "  inflating: hymenoptera_data/val/bees/2709775832_85b4b50a57.jpg  \n",
      "  inflating: hymenoptera_data/val/bees/2717418782_bd83307d9f.jpg  \n",
      "  inflating: hymenoptera_data/val/bees/272986700_d4d4bf8c4b.jpg  \n",
      "  inflating: hymenoptera_data/val/bees/2741763055_9a7bb00802.jpg  \n",
      "  inflating: hymenoptera_data/val/bees/2745389517_250a397f31.jpg  \n",
      "  inflating: hymenoptera_data/val/bees/2751836205_6f7b5eff30.jpg  \n",
      "  inflating: hymenoptera_data/val/bees/2782079948_8d4e94a826.jpg  \n",
      "  inflating: hymenoptera_data/val/bees/2809496124_5f25b5946a.jpg  \n",
      "  inflating: hymenoptera_data/val/bees/2815838190_0a9889d995.jpg  \n",
      "  inflating: hymenoptera_data/val/bees/2841437312_789699c740.jpg  \n",
      "  inflating: hymenoptera_data/val/bees/2883093452_7e3a1eb53f.jpg  \n",
      "  inflating: hymenoptera_data/val/bees/290082189_f66cb80bfc.jpg  \n",
      "  inflating: hymenoptera_data/val/bees/296565463_d07a7bed96.jpg  \n",
      "  inflating: hymenoptera_data/val/bees/3077452620_548c79fda0.jpg  \n",
      "  inflating: hymenoptera_data/val/bees/348291597_ee836fbb1a.jpg  \n",
      "  inflating: hymenoptera_data/val/bees/350436573_41f4ecb6c8.jpg  \n",
      "  inflating: hymenoptera_data/val/bees/353266603_d3eac7e9a0.jpg  \n",
      "  inflating: hymenoptera_data/val/bees/372228424_16da1f8884.jpg  \n",
      "  inflating: hymenoptera_data/val/bees/400262091_701c00031c.jpg  \n",
      "  inflating: hymenoptera_data/val/bees/416144384_961c326481.jpg  \n",
      "  inflating: hymenoptera_data/val/bees/44105569_16720a960c.jpg  \n",
      "  inflating: hymenoptera_data/val/bees/456097971_860949c4fc.jpg  \n",
      "  inflating: hymenoptera_data/val/bees/464594019_1b24a28bb1.jpg  \n",
      "  inflating: hymenoptera_data/val/bees/485743562_d8cc6b8f73.jpg  \n",
      "  inflating: hymenoptera_data/val/bees/540976476_844950623f.jpg  \n",
      "  inflating: hymenoptera_data/val/bees/54736755_c057723f64.jpg  \n",
      "  inflating: hymenoptera_data/val/bees/57459255_752774f1b2.jpg  \n",
      "  inflating: hymenoptera_data/val/bees/576452297_897023f002.jpg  \n",
      "  inflating: hymenoptera_data/val/bees/586474709_ae436da045.jpg  \n",
      "  inflating: hymenoptera_data/val/bees/590318879_68cf112861.jpg  \n",
      "  inflating: hymenoptera_data/val/bees/59798110_2b6a3c8031.jpg  \n",
      "  inflating: hymenoptera_data/val/bees/603709866_a97c7cfc72.jpg  \n",
      "  inflating: hymenoptera_data/val/bees/603711658_4c8cd2201e.jpg  \n",
      "  inflating: hymenoptera_data/val/bees/65038344_52a45d090d.jpg  \n",
      "  inflating: hymenoptera_data/val/bees/6a00d8341c630a53ef00e553d0beb18834-800wi.jpg  \n",
      "  inflating: hymenoptera_data/val/bees/72100438_73de9f17af.jpg  \n",
      "  inflating: hymenoptera_data/val/bees/759745145_e8bc776ec8.jpg  \n",
      "  inflating: hymenoptera_data/val/bees/936182217_c4caa5222d.jpg  \n",
      "  inflating: hymenoptera_data/val/bees/abeja.jpg  \n"
     ]
    }
   ],
   "source": [
    "! wget https://download.pytorch.org/tutorial/hymenoptera_data.zip\n",
    "! unzip ./hymenoptera_data.zip"
   ]
  },
  {
   "cell_type": "markdown",
   "metadata": {
    "colab_type": "text",
    "id": "IGVsiVQBY8y4"
   },
   "source": [
    "Загрузчик данных -- одна из важных компонент для эффективного обучения нейронных сетей:\n",
    "асинхронная загрузка и быстрая предобработка важны для полного использования GPU.\n",
    "\n",
    "Для курсовых проектов рекомендуется ознакомиться и использовать [Pytorch Dataset](http://pytorch.org/tutorials/beginner/data_loading_tutorial.html#dataset-class)\n",
    "\n",
    "Пример использования:"
   ]
  },
  {
   "cell_type": "code",
   "execution_count": 27,
   "metadata": {
    "colab": {},
    "colab_type": "code",
    "executionInfo": {
     "elapsed": 1015,
     "status": "ok",
     "timestamp": 1596126271334,
     "user": {
      "displayName": "Stepan Danilov",
      "photoUrl": "https://lh3.googleusercontent.com/a-/AOh14GiXigoc_rDJD8xI-vQ4-N30DUxN3Ph5FYSMfHqx=s64",
      "userId": "18196458455403579585"
     },
     "user_tz": -180
    },
    "id": "3Emt8XDoY8y7"
   },
   "outputs": [],
   "source": [
    "%matplotlib inline\n",
    "import torch\n",
    "import torch.nn as nn\n",
    "import torch.optim as optim\n",
    "from torch.optim import lr_scheduler\n",
    "from torch.autograd import Variable\n",
    "import numpy as np\n",
    "import torchvision\n",
    "from torchvision import datasets, models, transforms\n",
    "import matplotlib.pyplot as plt\n",
    "import time\n",
    "import os\n",
    "\n",
    "\n",
    "data_transforms = {\n",
    "    'train': transforms.Compose([\n",
    "        transforms.RandomResizedCrop(224),\n",
    "        transforms.RandomHorizontalFlip(),\n",
    "        transforms.ToTensor(),\n",
    "        transforms.Normalize([0.485, 0.456, 0.406], [0.229, 0.224, 0.225])\n",
    "    ]),\n",
    "    'val': transforms.Compose([\n",
    "        transforms.Resize(256),\n",
    "        transforms.CenterCrop(224),\n",
    "        transforms.ToTensor(),\n",
    "        transforms.Normalize([0.485, 0.456, 0.406], [0.229, 0.224, 0.225])\n",
    "    ]),\n",
    "}\n",
    "\n",
    "data_dir = 'hymenoptera_data'\n",
    "image_datasets = {x: datasets.ImageFolder(os.path.join(data_dir, x),\n",
    "                                          data_transforms[x])\n",
    "                  for x in ['train', 'val']}\n",
    "dataloaders = {x: torch.utils.data.DataLoader(image_datasets[x], batch_size=4,\n",
    "                                             shuffle=True, num_workers=4)\n",
    "              for x in ['train', 'val']}\n",
    "dataset_sizes = {x: len(image_datasets[x]) for x in ['train', 'val']}\n",
    "class_names = image_datasets['train'].classes\n",
    "\n",
    "use_gpu = torch.cuda.is_available()\n",
    "plt.ion()"
   ]
  },
  {
   "cell_type": "code",
   "execution_count": 28,
   "metadata": {
    "colab": {
     "base_uri": "https://localhost:8080/",
     "height": 148
    },
    "colab_type": "code",
    "executionInfo": {
     "elapsed": 2375,
     "status": "ok",
     "timestamp": 1596126280307,
     "user": {
      "displayName": "Stepan Danilov",
      "photoUrl": "https://lh3.googleusercontent.com/a-/AOh14GiXigoc_rDJD8xI-vQ4-N30DUxN3Ph5FYSMfHqx=s64",
      "userId": "18196458455403579585"
     },
     "user_tz": -180
    },
    "id": "zmUYoy7XY8zD",
    "outputId": "84cbc3b7-984f-45bd-df08-660b5c2ca9f2"
   },
   "outputs": [
    {
     "data": {
      "image/png": "[encoded data removed]",
      "text/plain": [
       "<Figure size 432x288 with 1 Axes>"
      ]
     },
     "metadata": {
      "needs_background": "light",
      "tags": []
     },
     "output_type": "display_data"
    }
   ],
   "source": [
    "def imshow(inp, title=None):\n",
    "    \"\"\"Imshow for Tensor.\"\"\"\n",
    "    inp = inp.numpy().transpose((1, 2, 0))\n",
    "    mean = np.array([0.485, 0.456, 0.406])\n",
    "    std = np.array([0.229, 0.224, 0.225])\n",
    "    inp = std * inp + mean\n",
    "    inp = np.clip(inp, 0, 1)\n",
    "    plt.imshow(inp)\n",
    "    if title is not None:\n",
    "        plt.title(title)\n",
    "    plt.pause(0.1)  # pause a bit so that plots are updated\n",
    "\n",
    "\n",
    "# Get a batch of training data\n",
    "inputs, classes = next(iter(dataloaders['train']))\n",
    "\n",
    "# Make a grid from batch\n",
    "out = torchvision.utils.make_grid(inputs)\n",
    "\n",
    "imshow(out, title=[class_names[x] for x in classes])"
   ]
  },
  {
   "cell_type": "code",
   "execution_count": 29,
   "metadata": {
    "colab": {},
    "colab_type": "code",
    "executionInfo": {
     "elapsed": 1065,
     "status": "ok",
     "timestamp": 1596126291405,
     "user": {
      "displayName": "Stepan Danilov",
      "photoUrl": "https://lh3.googleusercontent.com/a-/AOh14GiXigoc_rDJD8xI-vQ4-N30DUxN3Ph5FYSMfHqx=s64",
      "userId": "18196458455403579585"
     },
     "user_tz": -180
    },
    "id": "d5LNGH6DY8zK"
   },
   "outputs": [],
   "source": [
    "# обратите внимание на сохранение лучшей версии весов сети\n",
    "def train_model(model, criterion, optimizer, scheduler, num_epochs=25):\n",
    "    since = time.time()\n",
    "\n",
    "    best_model_wts = model.state_dict()\n",
    "    best_acc = 0.0\n",
    "\n",
    "    for epoch in range(num_epochs):\n",
    "        print('Epoch {}/{}'.format(epoch, num_epochs - 1))\n",
    "        print('-' * 10)\n",
    "\n",
    "        # Each epoch has a training and validation phase\n",
    "        for phase in ['train', 'val']:\n",
    "            if phase == 'train':\n",
    "                scheduler.step()\n",
    "                model.train(True)  # Set model to training mode\n",
    "            else:\n",
    "                model.train(False)  # Set model to evaluate mode\n",
    "\n",
    "            running_loss = 0.0\n",
    "            running_corrects = 0\n",
    "\n",
    "            # Iterate over data.\n",
    "            for data in dataloaders[phase]:\n",
    "                # get the inputs\n",
    "                inputs, labels = data\n",
    "\n",
    "                if use_gpu:\n",
    "                    inputs = inputs.cuda()\n",
    "                    labels = labels.cuda()\n",
    "\n",
    "                # zero the parameter gradients\n",
    "                optimizer.zero_grad()\n",
    "\n",
    "                # forward\n",
    "                outputs = model(inputs)\n",
    "                _, preds = torch.max(outputs, 1)\n",
    "                loss = criterion(outputs, labels)\n",
    "\n",
    "                # backward + optimize only if in training phase\n",
    "                if phase == 'train':\n",
    "                    loss.backward()\n",
    "                    optimizer.step()\n",
    "\n",
    "                # statistics\n",
    "                running_loss += loss.item()\n",
    "                running_corrects += torch.sum(preds == labels).type(torch.float)\n",
    "\n",
    "            epoch_loss = running_loss / dataset_sizes[phase]\n",
    "            epoch_acc = running_corrects / dataset_sizes[phase]\n",
    "\n",
    "            print('{} Loss: {:.4f} Acc: {:.4f}'.format(\n",
    "                phase, epoch_loss, epoch_acc))\n",
    "\n",
    "            # deep copy the model\n",
    "            if phase == 'val' and epoch_acc > best_acc:\n",
    "                best_acc = epoch_acc\n",
    "                best_model_wts = model.state_dict()\n",
    "        \n",
    "        time_elapsed = time.time() - since\n",
    "        print('Elapsed {:.0f}m {:.0f}s\\n'.format(time_elapsed // 60, time_elapsed % 60))\n",
    "\n",
    "    time_elapsed = time.time() - since\n",
    "    print('Training complete in {:.0f}m {:.0f}s'.format(\n",
    "        time_elapsed // 60, time_elapsed % 60))\n",
    "    print('Best val Acc: {:4f}'.format(best_acc))\n",
    "\n",
    "    # load best model weights\n",
    "    model.load_state_dict(best_model_wts)\n",
    "    return model"
   ]
  },
  {
   "cell_type": "code",
   "execution_count": 30,
   "metadata": {
    "colab": {
     "base_uri": "https://localhost:8080/",
     "height": 1000
    },
    "colab_type": "code",
    "executionInfo": {
     "elapsed": 915,
     "status": "ok",
     "timestamp": 1596126296353,
     "user": {
      "displayName": "Stepan Danilov",
      "photoUrl": "https://lh3.googleusercontent.com/a-/AOh14GiXigoc_rDJD8xI-vQ4-N30DUxN3Ph5FYSMfHqx=s64",
      "userId": "18196458455403579585"
     },
     "user_tz": -180
    },
    "id": "LkG9Pa3mY8zP",
    "outputId": "3bf7981a-36b5-42bc-ee60-5ac7de51db91"
   },
   "outputs": [
    {
     "data": {
      "text/plain": [
       "['AlexNet',\n",
       " 'DenseNet',\n",
       " 'GoogLeNet',\n",
       " 'GoogLeNetOutputs',\n",
       " 'Inception3',\n",
       " 'InceptionOutputs',\n",
       " 'MNASNet',\n",
       " 'MobileNetV2',\n",
       " 'ResNet',\n",
       " 'ShuffleNetV2',\n",
       " 'SqueezeNet',\n",
       " 'VGG',\n",
       " 'alexnet',\n",
       " 'densenet',\n",
       " 'densenet121',\n",
       " 'densenet161',\n",
       " 'densenet169',\n",
       " 'densenet201',\n",
       " 'detection',\n",
       " 'googlenet',\n",
       " 'inception',\n",
       " 'inception_v3',\n",
       " 'mnasnet',\n",
       " 'mnasnet0_5',\n",
       " 'mnasnet0_75',\n",
       " 'mnasnet1_0',\n",
       " 'mnasnet1_3',\n",
       " 'mobilenet',\n",
       " 'mobilenet_v2',\n",
       " 'quantization',\n",
       " 'resnet',\n",
       " 'resnet101',\n",
       " 'resnet152',\n",
       " 'resnet18',\n",
       " 'resnet34',\n",
       " 'resnet50',\n",
       " 'resnext101_32x8d',\n",
       " 'resnext50_32x4d',\n",
       " 'segmentation',\n",
       " 'shufflenet_v2_x0_5',\n",
       " 'shufflenet_v2_x1_0',\n",
       " 'shufflenet_v2_x1_5',\n",
       " 'shufflenet_v2_x2_0',\n",
       " 'shufflenetv2',\n",
       " 'squeezenet',\n",
       " 'squeezenet1_0',\n",
       " 'squeezenet1_1',\n",
       " 'utils',\n",
       " 'vgg',\n",
       " 'vgg11',\n",
       " 'vgg11_bn',\n",
       " 'vgg13',\n",
       " 'vgg13_bn',\n",
       " 'vgg16',\n",
       " 'vgg16_bn',\n",
       " 'vgg19',\n",
       " 'vgg19_bn',\n",
       " 'video',\n",
       " 'wide_resnet101_2',\n",
       " 'wide_resnet50_2']"
      ]
     },
     "execution_count": 30,
     "metadata": {
      "tags": []
     },
     "output_type": "execute_result"
    }
   ],
   "source": [
    "# torchvision содержит ряд моделей с претрейненными весами:\n",
    "[m for m in dir(models) if not m.startswith('_')]"
   ]
  },
  {
   "cell_type": "code",
   "execution_count": 31,
   "metadata": {
    "colab": {
     "base_uri": "https://localhost:8080/",
     "height": 83,
     "referenced_widgets": [
      "f8d38d8cf200415880185fd1da8433a2",
      "b6b8a6515f984ea08cb796c15673fa59",
      "6c740242926d470e8f287cbc290b4218",
      "6389aeb70ce044c6a03239ed5bce7c01",
      "06070b05fb4e4873ae99456fcbdec3e8",
      "168b9b87e9034bffa52ff56dcb8e899c",
      "fda14933b8804f438b42d2f3cddfb22d",
      "1b513c437ee14d5083c16628fa9e54e8"
     ]
    },
    "colab_type": "code",
    "executionInfo": {
     "elapsed": 1533,
     "status": "ok",
     "timestamp": 1596126304999,
     "user": {
      "displayName": "Stepan Danilov",
      "photoUrl": "https://lh3.googleusercontent.com/a-/AOh14GiXigoc_rDJD8xI-vQ4-N30DUxN3Ph5FYSMfHqx=s64",
      "userId": "18196458455403579585"
     },
     "user_tz": -180
    },
    "id": "I5cPXSjfRj-I",
    "outputId": "b2b01797-2b78-41de-c19e-06dcc97505e2"
   },
   "outputs": [
    {
     "name": "stderr",
     "output_type": "stream",
     "text": [
      "Downloading: \"https://download.pytorch.org/models/resnet18-5c106cde.pth\" to /root/.cache/torch/checkpoints/resnet18-5c106cde.pth\n"
     ]
    },
    {
     "data": {
      "application/vnd.jupyter.widget-view+json": {
       "model_id": "f8d38d8cf200415880185fd1da8433a2",
       "version_major": 2,
       "version_minor": 0
      },
      "text/plain": [
       "HBox(children=(FloatProgress(value=0.0, max=46827520.0), HTML(value='')))"
      ]
     },
     "metadata": {
      "tags": []
     },
     "output_type": "display_data"
    },
    {
     "name": "stdout",
     "output_type": "stream",
     "text": [
      "\n"
     ]
    }
   ],
   "source": [
    "model_ft = models.resnet18(pretrained=True)"
   ]
  },
  {
   "cell_type": "code",
   "execution_count": 32,
   "metadata": {
    "colab": {},
    "colab_type": "code",
    "executionInfo": {
     "elapsed": 9792,
     "status": "ok",
     "timestamp": 1596126316977,
     "user": {
      "displayName": "Stepan Danilov",
      "photoUrl": "https://lh3.googleusercontent.com/a-/AOh14GiXigoc_rDJD8xI-vQ4-N30DUxN3Ph5FYSMfHqx=s64",
      "userId": "18196458455403579585"
     },
     "user_tz": -180
    },
    "id": "f1ZvVhmnY8zS"
   },
   "outputs": [],
   "source": [
    "model_ft = models.resnet18(pretrained=True)\n",
    "# hint: вы можете изучить устройство любого объекта в python пользуясь интерактивностью интерпретатора и методом dir()\n",
    "\n",
    "# Список слоев модели можно получить с помощью обхода\n",
    "# for x in model_ft.named_modules():\n",
    "#    print(x[0], x[1])\n",
    "\n",
    "# TODO: подмените в модели последний слой, чтобы она работала для двух классов\n",
    "\n",
    "num_ftrs = model_ft.fc.in_features\n",
    "model_ft.fc = nn.Linear(num_ftrs, 2)\n",
    "\n",
    "# TODO: выберите, какие параметры дообучать. Результат получается лучше если дообучать всё или только последний слой? Почему?\n",
    "# например, выключить обучение всех параметров можно при помощи этого кода:\n",
    "# for params in model_ft.parameters():\n",
    "#     params.requires_grad = False \n",
    "\n",
    "params_to_train = model_ft.fc.parameters()\n",
    "\n",
    "# use GPU if you have it\n",
    "if use_gpu:\n",
    "    model_ft = model_ft.cuda()\n",
    "\n",
    "# loss\n",
    "criterion = nn.CrossEntropyLoss()\n",
    "\n",
    "# Create optimizer on the selected parameters\n",
    "optimizer_ft = optim.SGD(params_to_train, lr=0.001, momentum=0.9)\n",
    "\n",
    "# Decay LR by a factor of 0.1 every 7 epochs\n",
    "exp_lr_scheduler = lr_scheduler.StepLR(optimizer_ft, step_size=7, gamma=0.1)"
   ]
  },
  {
   "cell_type": "code",
   "execution_count": 33,
   "metadata": {
    "colab": {
     "base_uri": "https://localhost:8080/",
     "height": 1000
    },
    "colab_type": "code",
    "executionInfo": {
     "elapsed": 133768,
     "status": "ok",
     "timestamp": 1596126466621,
     "user": {
      "displayName": "Stepan Danilov",
      "photoUrl": "https://lh3.googleusercontent.com/a-/AOh14GiXigoc_rDJD8xI-vQ4-N30DUxN3Ph5FYSMfHqx=s64",
      "userId": "18196458455403579585"
     },
     "user_tz": -180
    },
    "id": "cy1wlPmxY8zW",
    "outputId": "83832981-0916-442d-ec58-d6b87ee2c816"
   },
   "outputs": [
    {
     "name": "stdout",
     "output_type": "stream",
     "text": [
      "Epoch 0/24\n",
      "----------\n"
     ]
    },
    {
     "name": "stderr",
     "output_type": "stream",
     "text": [
      "/usr/local/lib/python3.6/dist-packages/torch/optim/lr_scheduler.py:123: UserWarning: Detected call of `lr_scheduler.step()` before `optimizer.step()`. In PyTorch 1.1.0 and later, you should call them in the opposite order: `optimizer.step()` before `lr_scheduler.step()`.  Failure to do this will result in PyTorch skipping the first value of the learning rate schedule. See more details at https://pytorch.org/docs/stable/optim.html#how-to-adjust-learning-rate\n",
      "  \"https://pytorch.org/docs/stable/optim.html#how-to-adjust-learning-rate\", UserWarning)\n"
     ]
    },
    {
     "name": "stdout",
     "output_type": "stream",
     "text": [
      "train Loss: 0.1382 Acc: 0.6967\n",
      "val Loss: 0.0564 Acc: 0.9477\n",
      "Elapsed 0m 6s\n",
      "\n",
      "Epoch 1/24\n",
      "----------\n",
      "train Loss: 0.1364 Acc: 0.7172\n",
      "val Loss: 0.0450 Acc: 0.9412\n",
      "Elapsed 0m 11s\n",
      "\n",
      "Epoch 2/24\n",
      "----------\n",
      "train Loss: 0.1230 Acc: 0.7910\n",
      "val Loss: 0.0508 Acc: 0.9281\n",
      "Elapsed 0m 16s\n",
      "\n",
      "Epoch 3/24\n",
      "----------\n",
      "train Loss: 0.1210 Acc: 0.7910\n",
      "val Loss: 0.1243 Acc: 0.8105\n",
      "Elapsed 0m 21s\n",
      "\n",
      "Epoch 4/24\n",
      "----------\n",
      "train Loss: 0.0867 Acc: 0.8566\n",
      "val Loss: 0.0444 Acc: 0.9477\n",
      "Elapsed 0m 27s\n",
      "\n",
      "Epoch 5/24\n",
      "----------\n",
      "train Loss: 0.0935 Acc: 0.8115\n",
      "val Loss: 0.0696 Acc: 0.9150\n",
      "Elapsed 0m 32s\n",
      "\n",
      "Epoch 6/24\n",
      "----------\n",
      "train Loss: 0.0957 Acc: 0.8361\n",
      "val Loss: 0.0441 Acc: 0.9412\n",
      "Elapsed 0m 38s\n",
      "\n",
      "Epoch 7/24\n",
      "----------\n",
      "train Loss: 0.0982 Acc: 0.8361\n",
      "val Loss: 0.0480 Acc: 0.9346\n",
      "Elapsed 0m 43s\n",
      "\n",
      "Epoch 8/24\n",
      "----------\n",
      "train Loss: 0.0815 Acc: 0.8566\n",
      "val Loss: 0.0511 Acc: 0.9412\n",
      "Elapsed 0m 48s\n",
      "\n",
      "Epoch 9/24\n",
      "----------\n",
      "train Loss: 0.0874 Acc: 0.8279\n",
      "val Loss: 0.0507 Acc: 0.9412\n",
      "Elapsed 0m 53s\n",
      "\n",
      "Epoch 10/24\n",
      "----------\n",
      "train Loss: 0.0769 Acc: 0.8607\n",
      "val Loss: 0.0486 Acc: 0.9412\n",
      "Elapsed 0m 59s\n",
      "\n",
      "Epoch 11/24\n",
      "----------\n",
      "train Loss: 0.0965 Acc: 0.7869\n",
      "val Loss: 0.0519 Acc: 0.9346\n",
      "Elapsed 1m 4s\n",
      "\n",
      "Epoch 12/24\n",
      "----------\n",
      "train Loss: 0.1005 Acc: 0.8156\n",
      "val Loss: 0.0552 Acc: 0.9346\n",
      "Elapsed 1m 9s\n",
      "\n",
      "Epoch 13/24\n",
      "----------\n",
      "train Loss: 0.0902 Acc: 0.8402\n",
      "val Loss: 0.0493 Acc: 0.9412\n",
      "Elapsed 1m 14s\n",
      "\n",
      "Epoch 14/24\n",
      "----------\n",
      "train Loss: 0.0762 Acc: 0.8566\n",
      "val Loss: 0.0500 Acc: 0.9346\n",
      "Elapsed 1m 20s\n",
      "\n",
      "Epoch 15/24\n",
      "----------\n",
      "train Loss: 0.0924 Acc: 0.8238\n",
      "val Loss: 0.0473 Acc: 0.9346\n",
      "Elapsed 1m 25s\n",
      "\n",
      "Epoch 16/24\n",
      "----------\n",
      "train Loss: 0.0840 Acc: 0.8484\n",
      "val Loss: 0.0535 Acc: 0.9281\n",
      "Elapsed 1m 30s\n",
      "\n",
      "Epoch 17/24\n",
      "----------\n",
      "train Loss: 0.0827 Acc: 0.8484\n",
      "val Loss: 0.0468 Acc: 0.9346\n",
      "Elapsed 1m 36s\n",
      "\n",
      "Epoch 18/24\n",
      "----------\n",
      "train Loss: 0.0717 Acc: 0.8648\n",
      "val Loss: 0.0496 Acc: 0.9412\n",
      "Elapsed 1m 41s\n",
      "\n",
      "Epoch 19/24\n",
      "----------\n",
      "train Loss: 0.0854 Acc: 0.8402\n",
      "val Loss: 0.0512 Acc: 0.9346\n",
      "Elapsed 1m 46s\n",
      "\n",
      "Epoch 20/24\n",
      "----------\n",
      "train Loss: 0.0938 Acc: 0.8238\n",
      "val Loss: 0.0477 Acc: 0.9477\n",
      "Elapsed 1m 52s\n",
      "\n",
      "Epoch 21/24\n",
      "----------\n",
      "train Loss: 0.0971 Acc: 0.8279\n",
      "val Loss: 0.0589 Acc: 0.9346\n",
      "Elapsed 1m 57s\n",
      "\n",
      "Epoch 22/24\n",
      "----------\n",
      "train Loss: 0.0935 Acc: 0.8279\n",
      "val Loss: 0.0556 Acc: 0.9346\n",
      "Elapsed 2m 2s\n",
      "\n",
      "Epoch 23/24\n",
      "----------\n",
      "train Loss: 0.0822 Acc: 0.8566\n",
      "val Loss: 0.0483 Acc: 0.9412\n",
      "Elapsed 2m 7s\n",
      "\n",
      "Epoch 24/24\n",
      "----------\n",
      "train Loss: 0.0722 Acc: 0.8730\n",
      "val Loss: 0.0708 Acc: 0.9085\n",
      "Elapsed 2m 13s\n",
      "\n",
      "Training complete in 2m 13s\n",
      "Best val Acc: 0.947712\n"
     ]
    }
   ],
   "source": [
    "model_ft = train_model(\n",
    "    model_ft, criterion, optimizer_ft, exp_lr_scheduler, num_epochs=25)\n",
    "# если всё сделано правильно, то точность на валидации должна быть больше 94%"
   ]
  },
  {
   "cell_type": "code",
   "execution_count": 34,
   "metadata": {
    "colab": {},
    "colab_type": "code",
    "executionInfo": {
     "elapsed": 126023,
     "status": "ok",
     "timestamp": 1596126466622,
     "user": {
      "displayName": "Stepan Danilov",
      "photoUrl": "https://lh3.googleusercontent.com/a-/AOh14GiXigoc_rDJD8xI-vQ4-N30DUxN3Ph5FYSMfHqx=s64",
      "userId": "18196458455403579585"
     },
     "user_tz": -180
    },
    "id": "bdQUheTZZMGM"
   },
   "outputs": [],
   "source": [
    "device = torch.device(\"cuda:0\" if torch.cuda.is_available() else \"cpu\")"
   ]
  },
  {
   "cell_type": "code",
   "execution_count": 42,
   "metadata": {
    "colab": {
     "base_uri": "https://localhost:8080/",
     "height": 410
    },
    "colab_type": "code",
    "executionInfo": {
     "elapsed": 3276,
     "status": "ok",
     "timestamp": 1596126696835,
     "user": {
      "displayName": "Stepan Danilov",
      "photoUrl": "https://lh3.googleusercontent.com/a-/AOh14GiXigoc_rDJD8xI-vQ4-N30DUxN3Ph5FYSMfHqx=s64",
      "userId": "18196458455403579585"
     },
     "user_tz": -180
    },
    "id": "LR4Fi3qTY8zc",
    "outputId": "4605e79b-f4f6-4b14-bc7c-347ac7096581"
   },
   "outputs": [
    {
     "data": {
      "image/png": "[encoded data removed]",
      "text/plain": [
       "<Figure size 432x288 with 1 Axes>"
      ]
     },
     "metadata": {
      "needs_background": "light",
      "tags": []
     },
     "output_type": "display_data"
    },
    {
     "data": {
      "image/png": "[encoded data removed]",
      "text/plain": [
       "<Figure size 432x288 with 1 Axes>"
      ]
     },
     "metadata": {
      "needs_background": "light",
      "tags": []
     },
     "output_type": "display_data"
    },
    {
     "data": {
      "image/png": "[encoded data removed]",
      "text/plain": [
       "<Figure size 432x288 with 1 Axes>"
      ]
     },
     "metadata": {
      "needs_background": "light",
      "tags": []
     },
     "output_type": "display_data"
    }
   ],
   "source": [
    "# TODO: напишите функцию, прогоняющую модель на нескольких примерах из валидационной выборки\n",
    "# Отобразите картинки и предсказания\n",
    "\n",
    "def visualize(model, num_images=12):\n",
    "    model.eval()\n",
    "    total_imgs = 0\n",
    "    \n",
    "    with torch.no_grad():\n",
    "        for inputs, labels in dataloaders['val']:\n",
    "            inputs = inputs.to(device)\n",
    "            labels = labels.to(device)\n",
    "\n",
    "            outputs = model(inputs)\n",
    "            preds = torch.argmax(outputs, dim=1)\n",
    "            \n",
    "            out = torchvision.utils.make_grid(inputs.cpu())\n",
    "            imshow(out, title=[class_names[c] for c in preds])\n",
    "            total_imgs += inputs.size()[0]\n",
    "            if total_imgs >= num_images:\n",
    "                return\n",
    "\n",
    "            \n",
    "visualize(model_ft)"
   ]
  },
  {
   "cell_type": "code",
   "execution_count": null,
   "metadata": {
    "colab": {},
    "colab_type": "code",
    "id": "WfOyJKuaY8zi"
   },
   "outputs": [],
   "source": []
  }
 ],
 "metadata": {
  "accelerator": "GPU",
  "colab": {
   "collapsed_sections": [],
   "name": "dl_hw.ipynb",
   "provenance": []
  },
  "kernelspec": {
   "display_name": "Python 3",
   "language": "python",
   "name": "python3"
  },
  "language_info": {
   "codemirror_mode": {
    "name": "ipython",
    "version": 3
   },
   "file_extension": ".py",
   "mimetype": "text/x-python",
   "name": "python",
   "nbconvert_exporter": "python",
   "pygments_lexer": "ipython3",
   "version": "3.7.6"
  },
  "widgets": {
   "application/vnd.jupyter.widget-state+json": {
    "06070b05fb4e4873ae99456fcbdec3e8": {
     "model_module": "@jupyter-widgets/controls",
     "model_name": "ProgressStyleModel",
     "state": {
      "_model_module": "@jupyter-widgets/controls",
      "_model_module_version": "1.5.0",
      "_model_name": "ProgressStyleModel",
      "_view_count": null,
      "_view_module": "@jupyter-widgets/base",
      "_view_module_version": "1.2.0",
      "_view_name": "StyleView",
      "bar_color": null,
      "description_width": "initial"
     }
    },
    "168b9b87e9034bffa52ff56dcb8e899c": {
     "model_module": "@jupyter-widgets/base",
     "model_name": "LayoutModel",
     "state": {
      "_model_module": "@jupyter-widgets/base",
      "_model_module_version": "1.2.0",
      "_model_name": "LayoutModel",
      "_view_count": null,
      "_view_module": "@jupyter-widgets/base",
      "_view_module_version": "1.2.0",
      "_view_name": "LayoutView",
      "align_content": null,
      "align_items": null,
      "align_self": null,
      "border": null,
      "bottom": null,
      "display": null,
      "flex": null,
      "flex_flow": null,
      "grid_area": null,
      "grid_auto_columns": null,
      "grid_auto_flow": null,
      "grid_auto_rows": null,
      "grid_column": null,
      "grid_gap": null,
      "grid_row": null,
      "grid_template_areas": null,
      "grid_template_columns": null,
      "grid_template_rows": null,
      "height": null,
      "justify_content": null,
      "justify_items": null,
      "left": null,
      "margin": null,
      "max_height": null,
      "max_width": null,
      "min_height": null,
      "min_width": null,
      "object_fit": null,
      "object_position": null,
      "order": null,
      "overflow": null,
      "overflow_x": null,
      "overflow_y": null,
      "padding": null,
      "right": null,
      "top": null,
      "visibility": null,
      "width": null
     }
    },
    "1b513c437ee14d5083c16628fa9e54e8": {
     "model_module": "@jupyter-widgets/base",
     "model_name": "LayoutModel",
     "state": {
      "_model_module": "@jupyter-widgets/base",
      "_model_module_version": "1.2.0",
      "_model_name": "LayoutModel",
      "_view_count": null,
      "_view_module": "@jupyter-widgets/base",
      "_view_module_version": "1.2.0",
      "_view_name": "LayoutView",
      "align_content": null,
      "align_items": null,
      "align_self": null,
      "border": null,
      "bottom": null,
      "display": null,
      "flex": null,
      "flex_flow": null,
      "grid_area": null,
      "grid_auto_columns": null,
      "grid_auto_flow": null,
      "grid_auto_rows": null,
      "grid_column": null,
      "grid_gap": null,
      "grid_row": null,
      "grid_template_areas": null,
      "grid_template_columns": null,
      "grid_template_rows": null,
      "height": null,
      "justify_content": null,
      "justify_items": null,
      "left": null,
      "margin": null,
      "max_height": null,
      "max_width": null,
      "min_height": null,
      "min_width": null,
      "object_fit": null,
      "object_position": null,
      "order": null,
      "overflow": null,
      "overflow_x": null,
      "overflow_y": null,
      "padding": null,
      "right": null,
      "top": null,
      "visibility": null,
      "width": null
     }
    },
    "6389aeb70ce044c6a03239ed5bce7c01": {
     "model_module": "@jupyter-widgets/controls",
     "model_name": "HTMLModel",
     "state": {
      "_dom_classes": [],
      "_model_module": "@jupyter-widgets/controls",
      "_model_module_version": "1.5.0",
      "_model_name": "HTMLModel",
      "_view_count": null,
      "_view_module": "@jupyter-widgets/controls",
      "_view_module_version": "1.5.0",
      "_view_name": "HTMLView",
      "description": "",
      "description_tooltip": null,
      "layout": "IPY_MODEL_1b513c437ee14d5083c16628fa9e54e8",
      "placeholder": "​",
      "style": "IPY_MODEL_fda14933b8804f438b42d2f3cddfb22d",
      "value": " 44.7M/44.7M [00:00&lt;00:00, 117MB/s]"
     }
    },
    "6c740242926d470e8f287cbc290b4218": {
     "model_module": "@jupyter-widgets/controls",
     "model_name": "FloatProgressModel",
     "state": {
      "_dom_classes": [],
      "_model_module": "@jupyter-widgets/controls",
      "_model_module_version": "1.5.0",
      "_model_name": "FloatProgressModel",
      "_view_count": null,
      "_view_module": "@jupyter-widgets/controls",
      "_view_module_version": "1.5.0",
      "_view_name": "ProgressView",
      "bar_style": "success",
      "description": "100%",
      "description_tooltip": null,
      "layout": "IPY_MODEL_168b9b87e9034bffa52ff56dcb8e899c",
      "max": 46827520,
      "min": 0,
      "orientation": "horizontal",
      "style": "IPY_MODEL_06070b05fb4e4873ae99456fcbdec3e8",
      "value": 46827520
     }
    },
    "b6b8a6515f984ea08cb796c15673fa59": {
     "model_module": "@jupyter-widgets/base",
     "model_name": "LayoutModel",
     "state": {
      "_model_module": "@jupyter-widgets/base",
      "_model_module_version": "1.2.0",
      "_model_name": "LayoutModel",
      "_view_count": null,
      "_view_module": "@jupyter-widgets/base",
      "_view_module_version": "1.2.0",
      "_view_name": "LayoutView",
      "align_content": null,
      "align_items": null,
      "align_self": null,
      "border": null,
      "bottom": null,
      "display": null,
      "flex": null,
      "flex_flow": null,
      "grid_area": null,
      "grid_auto_columns": null,
      "grid_auto_flow": null,
      "grid_auto_rows": null,
      "grid_column": null,
      "grid_gap": null,
      "grid_row": null,
      "grid_template_areas": null,
      "grid_template_columns": null,
      "grid_template_rows": null,
      "height": null,
      "justify_content": null,
      "justify_items": null,
      "left": null,
      "margin": null,
      "max_height": null,
      "max_width": null,
      "min_height": null,
      "min_width": null,
      "object_fit": null,
      "object_position": null,
      "order": null,
      "overflow": null,
      "overflow_x": null,
      "overflow_y": null,
      "padding": null,
      "right": null,
      "top": null,
      "visibility": null,
      "width": null
     }
    },
    "f8d38d8cf200415880185fd1da8433a2": {
     "model_module": "@jupyter-widgets/controls",
     "model_name": "HBoxModel",
     "state": {
      "_dom_classes": [],
      "_model_module": "@jupyter-widgets/controls",
      "_model_module_version": "1.5.0",
      "_model_name": "HBoxModel",
      "_view_count": null,
      "_view_module": "@jupyter-widgets/controls",
      "_view_module_version": "1.5.0",
      "_view_name": "HBoxView",
      "box_style": "",
      "children": [
       "IPY_MODEL_6c740242926d470e8f287cbc290b4218",
       "IPY_MODEL_6389aeb70ce044c6a03239ed5bce7c01"
      ],
      "layout": "IPY_MODEL_b6b8a6515f984ea08cb796c15673fa59"
     }
    },
    "fda14933b8804f438b42d2f3cddfb22d": {
     "model_module": "@jupyter-widgets/controls",
     "model_name": "DescriptionStyleModel",
     "state": {
      "_model_module": "@jupyter-widgets/controls",
      "_model_module_version": "1.5.0",
      "_model_name": "DescriptionStyleModel",
      "_view_count": null,
      "_view_module": "@jupyter-widgets/base",
      "_view_module_version": "1.2.0",
      "_view_name": "StyleView",
      "description_width": ""
     }
    }
   }
  }
 },
 "nbformat": 4,
 "nbformat_minor": 1
}
